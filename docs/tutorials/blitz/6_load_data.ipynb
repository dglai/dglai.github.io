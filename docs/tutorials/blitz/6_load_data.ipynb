{
 "cells": [
  {
   "cell_type": "markdown",
   "metadata": {},
   "source": [
    "\n",
    "# Make Your Own Dataset\n",
    "\n",
    "This tutorial assumes that you already know :doc:`the basics of training a\n",
    "GNN for node classification <1_introduction>` and :doc:`how to\n",
    "create, load, and store a DGL graph <2_dglgraph>`.\n",
    "\n",
    "By the end of this tutorial, you will be able to\n",
    "\n",
    "-  Create your own graph dataset for node classification, link\n",
    "   prediction, or graph classification.\n",
    "\n",
    "(Time estimate: 15 minutes)\n"
   ]
  },
  {
   "cell_type": "markdown",
   "metadata": {},
   "source": [
    "## ``DGLDataset`` Object Overview\n",
    "\n",
    "Your custom graph dataset should inherit the ``dgl.data.DGLDataset``\n",
    "class and implement the following methods:\n",
    "\n",
    "-  ``__getitem__(self, i)``: retrieve the ``i``-th example of the\n",
    "   dataset. An example often contains a single DGL graph, and\n",
    "   occasionally its label.\n",
    "-  ``__len__(self)``: the number of examples in the dataset.\n",
    "-  ``process(self)``: load and process raw data from disk.\n",
    "\n",
    "\n"
   ]
  },
  {
   "cell_type": "markdown",
   "metadata": {},
   "source": [
    "## Creating a Dataset for Node Classification or Link Prediction from CSV\n",
    "\n",
    "A node classification dataset often consists of a single graph, as well\n",
    "as its node and edge features.\n",
    "\n",
    "This tutorial takes a small dataset based on [Zachary’s Karate Club\n",
    "network](https://en.wikipedia.org/wiki/Zachary%27s_karate_club)_. It\n",
    "contains\n",
    "\n",
    "* A ``members.csv`` file containing the attributes of all\n",
    "  members, as well as their attributes.\n",
    "\n",
    "* An ``interactions.csv`` file\n",
    "  containing the pair-wise interactions between two club members.\n",
    "\n",
    "\n"
   ]
  },
  {
   "cell_type": "code",
   "execution_count": 1,
   "metadata": {
    "collapsed": false,
    "execution": {
     "iopub.execute_input": "2024-06-27T04:40:30.602952Z",
     "iopub.status.busy": "2024-06-27T04:40:30.602625Z",
     "iopub.status.idle": "2024-06-27T04:40:31.077582Z",
     "shell.execute_reply": "2024-06-27T04:40:31.077024Z"
    }
   },
   "outputs": [
    {
     "data": {
      "text/html": [
       "<div>\n",
       "<style scoped>\n",
       "    .dataframe tbody tr th:only-of-type {\n",
       "        vertical-align: middle;\n",
       "    }\n",
       "\n",
       "    .dataframe tbody tr th {\n",
       "        vertical-align: top;\n",
       "    }\n",
       "\n",
       "    .dataframe thead th {\n",
       "        text-align: right;\n",
       "    }\n",
       "</style>\n",
       "<table border=\"1\" class=\"dataframe\">\n",
       "  <thead>\n",
       "    <tr style=\"text-align: right;\">\n",
       "      <th></th>\n",
       "      <th>Src</th>\n",
       "      <th>Dst</th>\n",
       "      <th>Weight</th>\n",
       "    </tr>\n",
       "  </thead>\n",
       "  <tbody>\n",
       "    <tr>\n",
       "      <th>0</th>\n",
       "      <td>0</td>\n",
       "      <td>1</td>\n",
       "      <td>0.043591</td>\n",
       "    </tr>\n",
       "    <tr>\n",
       "      <th>1</th>\n",
       "      <td>0</td>\n",
       "      <td>2</td>\n",
       "      <td>0.282119</td>\n",
       "    </tr>\n",
       "    <tr>\n",
       "      <th>2</th>\n",
       "      <td>0</td>\n",
       "      <td>3</td>\n",
       "      <td>0.370293</td>\n",
       "    </tr>\n",
       "    <tr>\n",
       "      <th>3</th>\n",
       "      <td>0</td>\n",
       "      <td>4</td>\n",
       "      <td>0.730570</td>\n",
       "    </tr>\n",
       "    <tr>\n",
       "      <th>4</th>\n",
       "      <td>0</td>\n",
       "      <td>5</td>\n",
       "      <td>0.821187</td>\n",
       "    </tr>\n",
       "  </tbody>\n",
       "</table>\n",
       "</div>"
      ],
      "text/plain": [
       "   Src  Dst    Weight\n",
       "0    0    1  0.043591\n",
       "1    0    2  0.282119\n",
       "2    0    3  0.370293\n",
       "3    0    4  0.730570\n",
       "4    0    5  0.821187"
      ]
     },
     "execution_count": 1,
     "metadata": {},
     "output_type": "execute_result"
    }
   ],
   "source": [
    "import urllib.request\n",
    "\n",
    "import pandas as pd\n",
    "\n",
    "urllib.request.urlretrieve(\n",
    "    \"https://data.dgl.ai/tutorial/dataset/members.csv\", \"./members.csv\"\n",
    ")\n",
    "urllib.request.urlretrieve(\n",
    "    \"https://data.dgl.ai/tutorial/dataset/interactions.csv\",\n",
    "    \"./interactions.csv\",\n",
    ")\n",
    "\n",
    "members = pd.read_csv(\"./members.csv\")\n",
    "members.head()\n",
    "\n",
    "interactions = pd.read_csv(\"./interactions.csv\")\n",
    "interactions.head()"
   ]
  },
  {
   "cell_type": "markdown",
   "metadata": {},
   "source": [
    "This tutorial treats the members as nodes and interactions as edges. It\n",
    "takes age as a numeric feature of the nodes, affiliated club as the label\n",
    "of the nodes, and edge weight as a numeric feature of the edges.\n",
    "\n",
    "<div class=\"alert alert-info\"><h4>Note</h4><p>The original Zachary’s Karate Club network does not have\n",
    "   member ages. The ages in this tutorial are generated synthetically\n",
    "   for demonstrating how to add node features into the graph for dataset\n",
    "   creation.</p></div>\n",
    "\n",
    "<div class=\"alert alert-info\"><h4>Note</h4><p>In practice, taking age directly as a numeric feature may\n",
    "   not work well in machine learning; strategies like binning or\n",
    "   normalizing the feature would work better. This tutorial directly\n",
    "   takes the values as-is for simplicity.</p></div>\n",
    "\n",
    "\n"
   ]
  },
  {
   "cell_type": "code",
   "execution_count": 2,
   "metadata": {
    "collapsed": false,
    "execution": {
     "iopub.execute_input": "2024-06-27T04:40:31.080412Z",
     "iopub.status.busy": "2024-06-27T04:40:31.079991Z",
     "iopub.status.idle": "2024-06-27T04:40:33.068839Z",
     "shell.execute_reply": "2024-06-27T04:40:33.068041Z"
    }
   },
   "outputs": [
    {
     "name": "stdout",
     "output_type": "stream",
     "text": [
      "Graph(num_nodes=34, num_edges=156,\n",
      "      ndata_schemes={'feat': Scheme(shape=(), dtype=torch.int64), 'label': Scheme(shape=(), dtype=torch.int8), 'train_mask': Scheme(shape=(), dtype=torch.bool), 'val_mask': Scheme(shape=(), dtype=torch.bool), 'test_mask': Scheme(shape=(), dtype=torch.bool)}\n",
      "      edata_schemes={'weight': Scheme(shape=(), dtype=torch.float64)})\n"
     ]
    },
    {
     "name": "stderr",
     "output_type": "stream",
     "text": [
      "/tmp/ipykernel_1041851/1508034646.py:17: UserWarning: The given NumPy array is not writable, and PyTorch does not support non-writable tensors. This means writing to this tensor will result in undefined behavior. You may want to copy the array to protect its data or make it writable before converting it to a tensor. This type of warning will be suppressed for the rest of this program. (Triggered internally at ../torch/csrc/utils/tensor_numpy.cpp:206.)\n",
      "  node_labels = torch.from_numpy(\n"
     ]
    }
   ],
   "source": [
    "import os\n",
    "\n",
    "os.environ[\"DGLBACKEND\"] = \"pytorch\"\n",
    "import dgl\n",
    "import torch\n",
    "from dgl.data import DGLDataset\n",
    "\n",
    "\n",
    "class KarateClubDataset(DGLDataset):\n",
    "    def __init__(self):\n",
    "        super().__init__(name=\"karate_club\")\n",
    "\n",
    "    def process(self):\n",
    "        nodes_data = pd.read_csv(\"./members.csv\")\n",
    "        edges_data = pd.read_csv(\"./interactions.csv\")\n",
    "        node_features = torch.from_numpy(nodes_data[\"Age\"].to_numpy())\n",
    "        node_labels = torch.from_numpy(\n",
    "            nodes_data[\"Club\"].astype(\"category\").cat.codes.to_numpy()\n",
    "        )\n",
    "        edge_features = torch.from_numpy(edges_data[\"Weight\"].to_numpy())\n",
    "        edges_src = torch.from_numpy(edges_data[\"Src\"].to_numpy())\n",
    "        edges_dst = torch.from_numpy(edges_data[\"Dst\"].to_numpy())\n",
    "\n",
    "        self.graph = dgl.graph(\n",
    "            (edges_src, edges_dst), num_nodes=nodes_data.shape[0]\n",
    "        )\n",
    "        self.graph.ndata[\"feat\"] = node_features\n",
    "        self.graph.ndata[\"label\"] = node_labels\n",
    "        self.graph.edata[\"weight\"] = edge_features\n",
    "\n",
    "        # If your dataset is a node classification dataset, you will need to assign\n",
    "        # masks indicating whether a node belongs to training, validation, and test set.\n",
    "        n_nodes = nodes_data.shape[0]\n",
    "        n_train = int(n_nodes * 0.6)\n",
    "        n_val = int(n_nodes * 0.2)\n",
    "        train_mask = torch.zeros(n_nodes, dtype=torch.bool)\n",
    "        val_mask = torch.zeros(n_nodes, dtype=torch.bool)\n",
    "        test_mask = torch.zeros(n_nodes, dtype=torch.bool)\n",
    "        train_mask[:n_train] = True\n",
    "        val_mask[n_train : n_train + n_val] = True\n",
    "        test_mask[n_train + n_val :] = True\n",
    "        self.graph.ndata[\"train_mask\"] = train_mask\n",
    "        self.graph.ndata[\"val_mask\"] = val_mask\n",
    "        self.graph.ndata[\"test_mask\"] = test_mask\n",
    "\n",
    "    def __getitem__(self, i):\n",
    "        return self.graph\n",
    "\n",
    "    def __len__(self):\n",
    "        return 1\n",
    "\n",
    "\n",
    "dataset = KarateClubDataset()\n",
    "graph = dataset[0]\n",
    "\n",
    "print(graph)"
   ]
  },
  {
   "cell_type": "markdown",
   "metadata": {},
   "source": [
    "Since a link prediction dataset only involves a single graph, preparing\n",
    "a link prediction dataset will have the same experience as preparing a\n",
    "node classification dataset.\n",
    "\n",
    "\n"
   ]
  },
  {
   "cell_type": "markdown",
   "metadata": {},
   "source": [
    "## Creating a Dataset for Graph Classification from CSV\n",
    "\n",
    "Creating a graph classification dataset involves implementing\n",
    "``__getitem__`` to return both the graph and its graph-level label.\n",
    "\n",
    "This tutorial demonstrates how to create a graph classification dataset\n",
    "with the following synthetic CSV data:\n",
    "\n",
    "-  ``graph_edges.csv``: containing three columns:\n",
    "\n",
    "   -  ``graph_id``: the ID of the graph.\n",
    "   -  ``src``: the source node of an edge of the given graph.\n",
    "   -  ``dst``: the destination node of an edge of the given graph.\n",
    "\n",
    "-  ``graph_properties.csv``: containing three columns:\n",
    "\n",
    "   -  ``graph_id``: the ID of the graph.\n",
    "   -  ``label``: the label of the graph.\n",
    "   -  ``num_nodes``: the number of nodes in the graph.\n",
    "\n",
    "\n"
   ]
  },
  {
   "cell_type": "code",
   "execution_count": 3,
   "metadata": {
    "collapsed": false,
    "execution": {
     "iopub.execute_input": "2024-06-27T04:40:33.071705Z",
     "iopub.status.busy": "2024-06-27T04:40:33.071264Z",
     "iopub.status.idle": "2024-06-27T04:40:33.179852Z",
     "shell.execute_reply": "2024-06-27T04:40:33.179292Z"
    }
   },
   "outputs": [
    {
     "name": "stdout",
     "output_type": "stream",
     "text": [
      "Graph(num_nodes=15, num_edges=45,\n",
      "      ndata_schemes={}\n",
      "      edata_schemes={}) tensor(0)\n"
     ]
    }
   ],
   "source": [
    "urllib.request.urlretrieve(\n",
    "    \"https://data.dgl.ai/tutorial/dataset/graph_edges.csv\", \"./graph_edges.csv\"\n",
    ")\n",
    "urllib.request.urlretrieve(\n",
    "    \"https://data.dgl.ai/tutorial/dataset/graph_properties.csv\",\n",
    "    \"./graph_properties.csv\",\n",
    ")\n",
    "edges = pd.read_csv(\"./graph_edges.csv\")\n",
    "properties = pd.read_csv(\"./graph_properties.csv\")\n",
    "\n",
    "edges.head()\n",
    "\n",
    "properties.head()\n",
    "\n",
    "\n",
    "class SyntheticDataset(DGLDataset):\n",
    "    def __init__(self):\n",
    "        super().__init__(name=\"synthetic\")\n",
    "\n",
    "    def process(self):\n",
    "        edges = pd.read_csv(\"./graph_edges.csv\")\n",
    "        properties = pd.read_csv(\"./graph_properties.csv\")\n",
    "        self.graphs = []\n",
    "        self.labels = []\n",
    "\n",
    "        # Create a graph for each graph ID from the edges table.\n",
    "        # First process the properties table into two dictionaries with graph IDs as keys.\n",
    "        # The label and number of nodes are values.\n",
    "        label_dict = {}\n",
    "        num_nodes_dict = {}\n",
    "        for _, row in properties.iterrows():\n",
    "            label_dict[row[\"graph_id\"]] = row[\"label\"]\n",
    "            num_nodes_dict[row[\"graph_id\"]] = row[\"num_nodes\"]\n",
    "\n",
    "        # For the edges, first group the table by graph IDs.\n",
    "        edges_group = edges.groupby(\"graph_id\")\n",
    "\n",
    "        # For each graph ID...\n",
    "        for graph_id in edges_group.groups:\n",
    "            # Find the edges as well as the number of nodes and its label.\n",
    "            edges_of_id = edges_group.get_group(graph_id)\n",
    "            src = edges_of_id[\"src\"].to_numpy()\n",
    "            dst = edges_of_id[\"dst\"].to_numpy()\n",
    "            num_nodes = num_nodes_dict[graph_id]\n",
    "            label = label_dict[graph_id]\n",
    "\n",
    "            # Create a graph and add it to the list of graphs and labels.\n",
    "            g = dgl.graph((src, dst), num_nodes=num_nodes)\n",
    "            self.graphs.append(g)\n",
    "            self.labels.append(label)\n",
    "\n",
    "        # Convert the label list to tensor for saving.\n",
    "        self.labels = torch.LongTensor(self.labels)\n",
    "\n",
    "    def __getitem__(self, i):\n",
    "        return self.graphs[i], self.labels[i]\n",
    "\n",
    "    def __len__(self):\n",
    "        return len(self.graphs)\n",
    "\n",
    "\n",
    "dataset = SyntheticDataset()\n",
    "graph, label = dataset[0]\n",
    "print(graph, label)"
   ]
  },
  {
   "cell_type": "markdown",
   "metadata": {},
   "source": [
    "## Creating Dataset from CSV via :class:`~dgl.data.CSVDataset`\n",
    "\n",
    "The previous examples describe how to create a dataset from CSV files\n",
    "step-by-step. DGL also provides a utility class :class:`~dgl.data.CSVDataset`\n",
    "for reading and parsing data from CSV files. See `guide-data-pipeline-loadcsv`\n",
    "for more details.\n",
    "\n",
    "\n"
   ]
  },
  {
   "cell_type": "code",
   "execution_count": 4,
   "metadata": {
    "collapsed": false,
    "execution": {
     "iopub.execute_input": "2024-06-27T04:40:33.182226Z",
     "iopub.status.busy": "2024-06-27T04:40:33.181964Z",
     "iopub.status.idle": "2024-06-27T04:40:33.184512Z",
     "shell.execute_reply": "2024-06-27T04:40:33.184009Z"
    }
   },
   "outputs": [],
   "source": [
    "# Thumbnail credits: (Un)common Use Cases for Graph Databases, Michal Bachman\n",
    "# sphinx_gallery_thumbnail_path = '_static/blitz_6_load_data.png'"
   ]
  }
 ],
 "metadata": {
  "kernelspec": {
   "display_name": "Python 3",
   "language": "python",
   "name": "python3"
  },
  "language_info": {
   "codemirror_mode": {
    "name": "ipython",
    "version": 3
   },
   "file_extension": ".py",
   "mimetype": "text/x-python",
   "name": "python",
   "nbconvert_exporter": "python",
   "pygments_lexer": "ipython3",
   "version": "3.10.14"
  }
 },
 "nbformat": 4,
 "nbformat_minor": 0
}
