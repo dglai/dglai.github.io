{
 "cells": [
  {
   "cell_type": "markdown",
   "metadata": {},
   "source": [
    "\n",
    "# Node Classification with DGL\n",
    "\n",
    "GNNs are powerful tools for many machine learning tasks on graphs. In\n",
    "this introductory tutorial, you will learn the basic workflow of using\n",
    "GNNs for node classification, i.e. predicting the category of a node in\n",
    "a graph.\n",
    "\n",
    "By completing this tutorial, you will be able to\n",
    "\n",
    "-  Load a DGL-provided dataset.\n",
    "-  Build a GNN model with DGL-provided neural network modules.\n",
    "-  Train and evaluate a GNN model for node classification on either CPU\n",
    "   or GPU.\n",
    "\n",
    "This tutorial assumes that you have experience in building neural\n",
    "networks with PyTorch.\n",
    "\n",
    "(Time estimate: 13 minutes)\n"
   ]
  },
  {
   "cell_type": "code",
   "execution_count": 1,
   "metadata": {
    "collapsed": false,
    "execution": {
     "iopub.execute_input": "2024-06-27T04:39:33.286272Z",
     "iopub.status.busy": "2024-06-27T04:39:33.285957Z",
     "iopub.status.idle": "2024-06-27T04:39:35.646336Z",
     "shell.execute_reply": "2024-06-27T04:39:35.645599Z"
    }
   },
   "outputs": [],
   "source": [
    "import os\n",
    "\n",
    "os.environ[\"DGLBACKEND\"] = \"pytorch\"\n",
    "import dgl\n",
    "import dgl.data\n",
    "import torch\n",
    "import torch.nn as nn\n",
    "import torch.nn.functional as F"
   ]
  },
  {
   "cell_type": "markdown",
   "metadata": {},
   "source": [
    "## Overview of Node Classification with GNN\n",
    "\n",
    "One of the most popular and widely adopted tasks on graph data is node\n",
    "classification, where a model needs to predict the ground truth category\n",
    "of each node. Before graph neural networks, many proposed methods are\n",
    "using either connectivity alone (such as DeepWalk or node2vec), or simple\n",
    "combinations of connectivity and the node's own features.  GNNs, by\n",
    "contrast, offers an opportunity to obtain node representations by\n",
    "combining the connectivity and features of a *local neighborhood*.\n",
    "\n",
    "[Kipf et\n",
    "al.,](https://arxiv.org/abs/1609.02907)_ is an example that formulates\n",
    "the node classification problem as a semi-supervised node classification\n",
    "task. With the help of only a small portion of labeled nodes, a graph\n",
    "neural network (GNN) can accurately predict the node category of the\n",
    "others.\n",
    "\n",
    "This tutorial will show how to build such a GNN for semi-supervised node\n",
    "classification with only a small number of labels on the Cora\n",
    "dataset,\n",
    "a citation network with papers as nodes and citations as edges. The task\n",
    "is to predict the category of a given paper. Each paper node contains a\n",
    "word count vector as its features, normalized so that they sum up to one,\n",
    "as described in Section 5.2 of\n",
    "[the paper](https://arxiv.org/abs/1609.02907)_.\n",
    "\n",
    "## Loading Cora Dataset\n",
    "\n",
    "\n"
   ]
  },
  {
   "cell_type": "code",
   "execution_count": 2,
   "metadata": {
    "collapsed": false,
    "execution": {
     "iopub.execute_input": "2024-06-27T04:39:35.649639Z",
     "iopub.status.busy": "2024-06-27T04:39:35.649108Z",
     "iopub.status.idle": "2024-06-27T04:39:35.723503Z",
     "shell.execute_reply": "2024-06-27T04:39:35.722902Z"
    }
   },
   "outputs": [
    {
     "name": "stdout",
     "output_type": "stream",
     "text": [
      "  NumNodes: 2708\n",
      "  NumEdges: 10556\n",
      "  NumFeats: 1433\n",
      "  NumClasses: 7\n",
      "  NumTrainingSamples: 140\n",
      "  NumValidationSamples: 500\n",
      "  NumTestSamples: 1000\n",
      "Done loading data from cached files.\n",
      "Number of categories: 7\n"
     ]
    }
   ],
   "source": [
    "dataset = dgl.data.CoraGraphDataset()\n",
    "print(f\"Number of categories: {dataset.num_classes}\")"
   ]
  },
  {
   "cell_type": "markdown",
   "metadata": {},
   "source": [
    "A DGL Dataset object may contain one or multiple graphs. The Cora\n",
    "dataset used in this tutorial only consists of one single graph.\n",
    "\n",
    "\n"
   ]
  },
  {
   "cell_type": "code",
   "execution_count": 3,
   "metadata": {
    "collapsed": false,
    "execution": {
     "iopub.execute_input": "2024-06-27T04:39:35.726063Z",
     "iopub.status.busy": "2024-06-27T04:39:35.725769Z",
     "iopub.status.idle": "2024-06-27T04:39:35.728676Z",
     "shell.execute_reply": "2024-06-27T04:39:35.728149Z"
    }
   },
   "outputs": [],
   "source": [
    "g = dataset[0]"
   ]
  },
  {
   "cell_type": "markdown",
   "metadata": {},
   "source": [
    "A DGL graph can store node features and edge features in two\n",
    "dictionary-like attributes called ``ndata`` and ``edata``.\n",
    "In the DGL Cora dataset, the graph contains the following node features:\n",
    "\n",
    "- ``train_mask``: A boolean tensor indicating whether the node is in the\n",
    "  training set.\n",
    "\n",
    "- ``val_mask``: A boolean tensor indicating whether the node is in the\n",
    "  validation set.\n",
    "\n",
    "- ``test_mask``: A boolean tensor indicating whether the node is in the\n",
    "  test set.\n",
    "\n",
    "- ``label``: The ground truth node category.\n",
    "\n",
    "-  ``feat``: The node features.\n",
    "\n",
    "\n"
   ]
  },
  {
   "cell_type": "code",
   "execution_count": 4,
   "metadata": {
    "collapsed": false,
    "execution": {
     "iopub.execute_input": "2024-06-27T04:39:35.731158Z",
     "iopub.status.busy": "2024-06-27T04:39:35.730751Z",
     "iopub.status.idle": "2024-06-27T04:39:35.735916Z",
     "shell.execute_reply": "2024-06-27T04:39:35.735395Z"
    }
   },
   "outputs": [
    {
     "name": "stdout",
     "output_type": "stream",
     "text": [
      "Node features\n",
      "{'feat': tensor([[0., 0., 0.,  ..., 0., 0., 0.],\n",
      "        [0., 0., 0.,  ..., 0., 0., 0.],\n",
      "        [0., 0., 0.,  ..., 0., 0., 0.],\n",
      "        ...,\n",
      "        [0., 0., 0.,  ..., 0., 0., 0.],\n",
      "        [0., 0., 0.,  ..., 0., 0., 0.],\n",
      "        [0., 0., 0.,  ..., 0., 0., 0.]]), 'label': tensor([3, 4, 4,  ..., 3, 3, 3]), 'test_mask': tensor([False, False, False,  ...,  True,  True,  True]), 'val_mask': tensor([False, False, False,  ..., False, False, False]), 'train_mask': tensor([ True,  True,  True,  ..., False, False, False])}\n",
      "Edge features\n",
      "{}\n"
     ]
    }
   ],
   "source": [
    "print(\"Node features\")\n",
    "print(g.ndata)\n",
    "print(\"Edge features\")\n",
    "print(g.edata)"
   ]
  },
  {
   "cell_type": "markdown",
   "metadata": {},
   "source": [
    "## Defining a Graph Convolutional Network (GCN)\n",
    "\n",
    "This tutorial will build a two-layer [Graph Convolutional Network\n",
    "(GCN)](http://tkipf.github.io/graph-convolutional-networks/)_. Each\n",
    "layer computes new node representations by aggregating neighbor\n",
    "information.\n",
    "\n",
    "To build a multi-layer GCN you can simply stack ``dgl.nn.GraphConv``\n",
    "modules, which inherit ``torch.nn.Module``.\n",
    "\n",
    "\n"
   ]
  },
  {
   "cell_type": "code",
   "execution_count": 5,
   "metadata": {
    "collapsed": false,
    "execution": {
     "iopub.execute_input": "2024-06-27T04:39:35.738435Z",
     "iopub.status.busy": "2024-06-27T04:39:35.737972Z",
     "iopub.status.idle": "2024-06-27T04:39:35.742878Z",
     "shell.execute_reply": "2024-06-27T04:39:35.742331Z"
    }
   },
   "outputs": [],
   "source": [
    "from dgl.nn import GraphConv\n",
    "\n",
    "\n",
    "class GCN(nn.Module):\n",
    "    def __init__(self, in_feats, h_feats, num_classes):\n",
    "        super(GCN, self).__init__()\n",
    "        self.conv1 = GraphConv(in_feats, h_feats)\n",
    "        self.conv2 = GraphConv(h_feats, num_classes)\n",
    "\n",
    "    def forward(self, g, in_feat):\n",
    "        h = self.conv1(g, in_feat)\n",
    "        h = F.relu(h)\n",
    "        h = self.conv2(g, h)\n",
    "        return h\n",
    "\n",
    "\n",
    "# Create the model with given dimensions\n",
    "model = GCN(g.ndata[\"feat\"].shape[1], 16, dataset.num_classes)"
   ]
  },
  {
   "cell_type": "markdown",
   "metadata": {},
   "source": [
    "DGL provides implementation of many popular neighbor aggregation\n",
    "modules. You can easily invoke them with one line of code.\n",
    "\n",
    "\n"
   ]
  },
  {
   "cell_type": "markdown",
   "metadata": {},
   "source": [
    "## Training the GCN\n",
    "\n",
    "Training this GCN is similar to training other PyTorch neural networks.\n",
    "\n",
    "\n"
   ]
  },
  {
   "cell_type": "code",
   "execution_count": 6,
   "metadata": {
    "collapsed": false,
    "execution": {
     "iopub.execute_input": "2024-06-27T04:39:35.745246Z",
     "iopub.status.busy": "2024-06-27T04:39:35.744924Z",
     "iopub.status.idle": "2024-06-27T04:39:36.857054Z",
     "shell.execute_reply": "2024-06-27T04:39:36.856415Z"
    }
   },
   "outputs": [
    {
     "name": "stdout",
     "output_type": "stream",
     "text": [
      "In epoch 0, loss: 1.946, val acc: 0.118 (best 0.118), test acc: 0.105 (best 0.105)\n",
      "In epoch 5, loss: 1.906, val acc: 0.544 (best 0.544), test acc: 0.564 (best 0.564)\n",
      "In epoch 10, loss: 1.842, val acc: 0.592 (best 0.592), test acc: 0.626 (best 0.626)\n",
      "In epoch 15, loss: 1.752, val acc: 0.598 (best 0.598), test acc: 0.620 (best 0.620)\n",
      "In epoch 20, loss: 1.640, val acc: 0.606 (best 0.606), test acc: 0.626 (best 0.626)\n",
      "In epoch 25, loss: 1.506, val acc: 0.632 (best 0.632), test acc: 0.650 (best 0.650)\n"
     ]
    },
    {
     "name": "stdout",
     "output_type": "stream",
     "text": [
      "In epoch 30, loss: 1.357, val acc: 0.660 (best 0.660), test acc: 0.686 (best 0.686)\n",
      "In epoch 35, loss: 1.198, val acc: 0.678 (best 0.678), test acc: 0.711 (best 0.711)\n",
      "In epoch 40, loss: 1.038, val acc: 0.682 (best 0.682), test acc: 0.715 (best 0.715)\n",
      "In epoch 45, loss: 0.883, val acc: 0.708 (best 0.708), test acc: 0.726 (best 0.726)\n",
      "In epoch 50, loss: 0.740, val acc: 0.714 (best 0.714), test acc: 0.733 (best 0.733)\n",
      "In epoch 55, loss: 0.613, val acc: 0.734 (best 0.734), test acc: 0.737 (best 0.737)\n"
     ]
    },
    {
     "name": "stdout",
     "output_type": "stream",
     "text": [
      "In epoch 60, loss: 0.504, val acc: 0.740 (best 0.740), test acc: 0.750 (best 0.750)\n",
      "In epoch 65, loss: 0.413, val acc: 0.762 (best 0.762), test acc: 0.755 (best 0.755)\n",
      "In epoch 70, loss: 0.339, val acc: 0.766 (best 0.766), test acc: 0.759 (best 0.759)\n",
      "In epoch 75, loss: 0.278, val acc: 0.764 (best 0.766), test acc: 0.759 (best 0.759)\n",
      "In epoch 80, loss: 0.230, val acc: 0.764 (best 0.766), test acc: 0.760 (best 0.759)\n",
      "In epoch 85, loss: 0.191, val acc: 0.766 (best 0.766), test acc: 0.762 (best 0.759)\n"
     ]
    },
    {
     "name": "stdout",
     "output_type": "stream",
     "text": [
      "In epoch 90, loss: 0.159, val acc: 0.768 (best 0.768), test acc: 0.765 (best 0.762)\n",
      "In epoch 95, loss: 0.134, val acc: 0.766 (best 0.768), test acc: 0.762 (best 0.762)\n"
     ]
    }
   ],
   "source": [
    "def train(g, model):\n",
    "    optimizer = torch.optim.Adam(model.parameters(), lr=0.01)\n",
    "    best_val_acc = 0\n",
    "    best_test_acc = 0\n",
    "\n",
    "    features = g.ndata[\"feat\"]\n",
    "    labels = g.ndata[\"label\"]\n",
    "    train_mask = g.ndata[\"train_mask\"]\n",
    "    val_mask = g.ndata[\"val_mask\"]\n",
    "    test_mask = g.ndata[\"test_mask\"]\n",
    "    for e in range(100):\n",
    "        # Forward\n",
    "        logits = model(g, features)\n",
    "\n",
    "        # Compute prediction\n",
    "        pred = logits.argmax(1)\n",
    "\n",
    "        # Compute loss\n",
    "        # Note that you should only compute the losses of the nodes in the training set.\n",
    "        loss = F.cross_entropy(logits[train_mask], labels[train_mask])\n",
    "\n",
    "        # Compute accuracy on training/validation/test\n",
    "        train_acc = (pred[train_mask] == labels[train_mask]).float().mean()\n",
    "        val_acc = (pred[val_mask] == labels[val_mask]).float().mean()\n",
    "        test_acc = (pred[test_mask] == labels[test_mask]).float().mean()\n",
    "\n",
    "        # Save the best validation accuracy and the corresponding test accuracy.\n",
    "        if best_val_acc < val_acc:\n",
    "            best_val_acc = val_acc\n",
    "            best_test_acc = test_acc\n",
    "\n",
    "        # Backward\n",
    "        optimizer.zero_grad()\n",
    "        loss.backward()\n",
    "        optimizer.step()\n",
    "\n",
    "        if e % 5 == 0:\n",
    "            print(\n",
    "                f\"In epoch {e}, loss: {loss:.3f}, val acc: {val_acc:.3f} (best {best_val_acc:.3f}), test acc: {test_acc:.3f} (best {best_test_acc:.3f})\"\n",
    "            )\n",
    "\n",
    "\n",
    "model = GCN(g.ndata[\"feat\"].shape[1], 16, dataset.num_classes)\n",
    "train(g, model)"
   ]
  },
  {
   "cell_type": "markdown",
   "metadata": {},
   "source": [
    "## Training on GPU\n",
    "\n",
    "Training on GPU requires to put both the model and the graph onto GPU\n",
    "with the ``to`` method, similar to what you will do in PyTorch.\n",
    "\n",
    ".. code:: python\n",
    "\n",
    "   g = g.to('cuda')\n",
    "   model = GCN(g.ndata['feat'].shape[1], 16, dataset.num_classes).to('cuda')\n",
    "   train(g, model)\n",
    "\n",
    "\n"
   ]
  },
  {
   "cell_type": "markdown",
   "metadata": {},
   "source": [
    "## What’s next?\n",
    "\n",
    "-  :doc:`How does DGL represent a graph <2_dglgraph>`?\n",
    "-  :doc:`Write your own GNN module <3_message_passing>`.\n",
    "-  :doc:`Link prediction (predicting existence of edges) on full\n",
    "   graph <4_link_predict>`.\n",
    "-  :doc:`Graph classification <5_graph_classification>`.\n",
    "-  :doc:`Make your own dataset <6_load_data>`.\n",
    "-  `The list of supported graph convolution\n",
    "   modules <apinn-pytorch>`.\n",
    "-  `The list of datasets provided by DGL <apidata>`.\n",
    "\n",
    "\n"
   ]
  },
  {
   "cell_type": "code",
   "execution_count": 7,
   "metadata": {
    "collapsed": false,
    "execution": {
     "iopub.execute_input": "2024-06-27T04:39:36.859877Z",
     "iopub.status.busy": "2024-06-27T04:39:36.859592Z",
     "iopub.status.idle": "2024-06-27T04:39:36.862272Z",
     "shell.execute_reply": "2024-06-27T04:39:36.861757Z"
    }
   },
   "outputs": [],
   "source": [
    "# Thumbnail credits: Stanford CS224W Notes\n",
    "# sphinx_gallery_thumbnail_path = '_static/blitz_1_introduction.png'"
   ]
  }
 ],
 "metadata": {
  "kernelspec": {
   "display_name": "Python 3",
   "language": "python",
   "name": "python3"
  },
  "language_info": {
   "codemirror_mode": {
    "name": "ipython",
    "version": 3
   },
   "file_extension": ".py",
   "mimetype": "text/x-python",
   "name": "python",
   "nbconvert_exporter": "python",
   "pygments_lexer": "ipython3",
   "version": "3.10.14"
  }
 },
 "nbformat": 4,
 "nbformat_minor": 0
}
