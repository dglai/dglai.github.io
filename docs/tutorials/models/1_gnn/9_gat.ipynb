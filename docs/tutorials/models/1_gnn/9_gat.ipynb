{
 "cells": [
  {
   "cell_type": "markdown",
   "metadata": {},
   "source": [
    "\n",
    "\n",
    "# Understand Graph Attention Network\n",
    "\n",
    "**Authors:** [Hao Zhang](https://github.com/sufeidechabei/), [Mufei Li](https://github.com/mufeili), [Minjie Wang](https://jermainewang.github.io/)  [Zheng Zhang](https://shanghai.nyu.edu/academics/faculty/directory/zheng-zhang)\n",
    "\n",
    "<div class=\"alert alert-danger\"><h4>Warning</h4><p>The tutorial aims at gaining insights into the paper, with code as a mean\n",
    "    of explanation. The implementation thus is NOT optimized for running\n",
    "    efficiency. For recommended implementation, please refer to the [official\n",
    "    examples](https://github.com/dmlc/dgl/tree/master/examples).</p></div>\n",
    "\n",
    "In this tutorial, you learn about a graph attention network (GAT) and how it can be\n",
    "implemented in PyTorch. You can also learn to visualize and understand what the attention\n",
    "mechanism has learned.\n",
    "\n",
    "The research described in the paper [Graph Convolutional Network (GCN)](https://arxiv.org/abs/1609.02907),\n",
    "indicates that combining local graph structure and node-level features yields\n",
    "good performance on node classification tasks. However, the way GCN aggregates\n",
    "is structure-dependent, which can hurt its generalizability.\n",
    "\n",
    "One workaround is to simply average over all neighbor node features as described in\n",
    "the research paper [GraphSAGE](https://www-cs-faculty.stanford.edu/people/jure/pubs/graphsage-nips17.pdf).\n",
    "However, [Graph Attention Network](https://arxiv.org/abs/1710.10903) proposes a\n",
    "different type of aggregation. GAT uses weighting neighbor features with feature dependent and\n",
    "structure-free normalization, in the style of attention.\n"
   ]
  },
  {
   "cell_type": "markdown",
   "metadata": {},
   "source": [
    "## Introducing attention to GCN\n",
    "\n",
    "The key difference between GAT and GCN is how the information from the one-hop neighborhood is aggregated.\n",
    "\n",
    "For GCN, a graph convolution operation produces the normalized sum of the node features of neighbors.\n",
    "\n",
    "\n",
    "\\begin{align}h_i^{(l+1)}=\\sigma\\left(\\sum_{j\\in \\mathcal{N}(i)} {\\frac{1}{c_{ij}} W^{(l)}h^{(l)}_j}\\right)\\end{align}\n",
    "\n",
    "\n",
    "where $\\mathcal{N}(i)$ is the set of its one-hop neighbors (to include\n",
    "$v_i$ in the set, simply add a self-loop to each node),\n",
    "$c_{ij}=\\sqrt{|\\mathcal{N}(i)|}\\sqrt{|\\mathcal{N}(j)|}$ is a\n",
    "normalization constant based on graph structure, $\\sigma$ is an\n",
    "activation function (GCN uses ReLU), and $W^{(l)}$ is a shared\n",
    "weight matrix for node-wise feature transformation. Another model proposed in\n",
    "[GraphSAGE](https://www-cs-faculty.stanford.edu/people/jure/pubs/graphsage-nips17.pdf)\n",
    "employs the same update rule except that they set\n",
    "$c_{ij}=|\\mathcal{N}(i)|$.\n",
    "\n",
    "GAT introduces the attention mechanism as a substitute for the statically\n",
    "normalized convolution operation. Below are the equations to compute the node\n",
    "embedding $h_i^{(l+1)}$ of layer $l+1$ from the embeddings of\n",
    "layer $l$.\n",
    "\n",
    "<img src=\"https://data.dgl.ai/tutorial/gat/gat.png\" width=\"450px\" align=\"center\">\n",
    "\n",
    "\\begin{align}\\begin{align}\n",
    "  z_i^{(l)}&=W^{(l)}h_i^{(l)},&(1) \\\\\n",
    "  e_{ij}^{(l)}&=\\text{LeakyReLU}(\\vec a^{(l)^T}(z_i^{(l)}||z_j^{(l)})),&(2)\\\\\n",
    "  \\alpha_{ij}^{(l)}&=\\frac{\\exp(e_{ij}^{(l)})}{\\sum_{k\\in \\mathcal{N}(i)}^{}\\exp(e_{ik}^{(l)})},&(3)\\\\\n",
    "  h_i^{(l+1)}&=\\sigma\\left(\\sum_{j\\in \\mathcal{N}(i)} {\\alpha^{(l)}_{ij} z^{(l)}_j }\\right),&(4)\n",
    "  \\end{align}\\end{align}\n",
    "\n",
    "\n",
    "Explanations:\n",
    "\n",
    "\n",
    "* Equation (1) is a linear transformation of the lower layer embedding $h_i^{(l)}$\n",
    "  and $W^{(l)}$ is its learnable weight matrix.\n",
    "* Equation (2) computes a pair-wise *un-normalized* attention score between two neighbors.\n",
    "  Here, it first concatenates the $z$ embeddings of the two nodes, where $||$\n",
    "  denotes concatenation, then takes a dot product of it and a learnable weight vector\n",
    "  $\\vec a^{(l)}$, and applies a LeakyReLU in the end. This form of attention is\n",
    "  usually called *additive attention*, contrast with the dot-product attention in the\n",
    "  Transformer model.\n",
    "* Equation (3) applies a softmax to normalize the attention scores on each node's\n",
    "  incoming edges.\n",
    "* Equation (4) is similar to GCN. The embeddings from neighbors are aggregated together,\n",
    "  scaled by the attention scores.\n",
    "\n",
    "There are other details from the paper, such as dropout and skip connections.\n",
    "For the purpose of simplicity, those details are left out of this tutorial. To see more details,\n",
    "download the [full example](https://github.com/dmlc/dgl/blob/master/examples/pytorch/gat/gat.py).\n",
    "In its essence, GAT is just a different aggregation function with attention\n",
    "over features of neighbors, instead of a simple mean aggregation.\n",
    "\n",
    "## GAT in DGL\n",
    "\n",
    "DGL provides an off-the-shelf implementation of the GAT layer under the ``dgl.nn.<backend>``\n",
    "subpackage. Simply import the ``GATConv`` as the follows.\n",
    "\n"
   ]
  },
  {
   "cell_type": "code",
   "execution_count": 1,
   "metadata": {
    "collapsed": false,
    "execution": {
     "iopub.execute_input": "2024-06-27T04:41:26.894743Z",
     "iopub.status.busy": "2024-06-27T04:41:26.894359Z",
     "iopub.status.idle": "2024-06-27T04:41:26.900428Z",
     "shell.execute_reply": "2024-06-27T04:41:26.899935Z"
    }
   },
   "outputs": [],
   "source": [
    "import os\n",
    "\n",
    "os.environ[\"DGLBACKEND\"] = \"pytorch\""
   ]
  },
  {
   "cell_type": "markdown",
   "metadata": {},
   "source": [
    "Readers can skip the following step-by-step explanation of the implementation and\n",
    "jump to the `Put everything together`_ for training and visualization results.\n",
    "\n",
    "To begin, you can get an overall impression about how a ``GATLayer`` module is\n",
    "implemented in DGL. In this section, the four equations above are broken down\n",
    "one at a time.\n",
    "\n",
    "<div class=\"alert alert-info\"><h4>Note</h4><p>This is showing how to implement a GAT from scratch.  DGL provides a more\n",
    "   efficient :class:`builtin GAT layer module <dgl.nn.pytorch.conv.GATConv>`.</p></div>\n",
    "\n",
    "\n"
   ]
  },
  {
   "cell_type": "code",
   "execution_count": 2,
   "metadata": {
    "collapsed": false,
    "execution": {
     "iopub.execute_input": "2024-06-27T04:41:26.902720Z",
     "iopub.status.busy": "2024-06-27T04:41:26.902347Z",
     "iopub.status.idle": "2024-06-27T04:41:29.222809Z",
     "shell.execute_reply": "2024-06-27T04:41:29.222138Z"
    }
   },
   "outputs": [],
   "source": [
    "import torch\n",
    "import torch.nn as nn\n",
    "import torch.nn.functional as F\n",
    "from dgl.nn.pytorch import GATConv\n",
    "\n",
    "\n",
    "class GATLayer(nn.Module):\n",
    "    def __init__(self, g, in_dim, out_dim):\n",
    "        super(GATLayer, self).__init__()\n",
    "        self.g = g\n",
    "        # equation (1)\n",
    "        self.fc = nn.Linear(in_dim, out_dim, bias=False)\n",
    "        # equation (2)\n",
    "        self.attn_fc = nn.Linear(2 * out_dim, 1, bias=False)\n",
    "        self.reset_parameters()\n",
    "\n",
    "    def reset_parameters(self):\n",
    "        \"\"\"Reinitialize learnable parameters.\"\"\"\n",
    "        gain = nn.init.calculate_gain(\"relu\")\n",
    "        nn.init.xavier_normal_(self.fc.weight, gain=gain)\n",
    "        nn.init.xavier_normal_(self.attn_fc.weight, gain=gain)\n",
    "\n",
    "    def edge_attention(self, edges):\n",
    "        # edge UDF for equation (2)\n",
    "        z2 = torch.cat([edges.src[\"z\"], edges.dst[\"z\"]], dim=1)\n",
    "        a = self.attn_fc(z2)\n",
    "        return {\"e\": F.leaky_relu(a)}\n",
    "\n",
    "    def message_func(self, edges):\n",
    "        # message UDF for equation (3) & (4)\n",
    "        return {\"z\": edges.src[\"z\"], \"e\": edges.data[\"e\"]}\n",
    "\n",
    "    def reduce_func(self, nodes):\n",
    "        # reduce UDF for equation (3) & (4)\n",
    "        # equation (3)\n",
    "        alpha = F.softmax(nodes.mailbox[\"e\"], dim=1)\n",
    "        # equation (4)\n",
    "        h = torch.sum(alpha * nodes.mailbox[\"z\"], dim=1)\n",
    "        return {\"h\": h}\n",
    "\n",
    "    def forward(self, h):\n",
    "        # equation (1)\n",
    "        z = self.fc(h)\n",
    "        self.g.ndata[\"z\"] = z\n",
    "        # equation (2)\n",
    "        self.g.apply_edges(self.edge_attention)\n",
    "        # equation (3) & (4)\n",
    "        self.g.update_all(self.message_func, self.reduce_func)\n",
    "        return self.g.ndata.pop(\"h\")"
   ]
  },
  {
   "cell_type": "markdown",
   "metadata": {},
   "source": [
    "### Equation (1)\n",
    "\n",
    "\\begin{align}z_i^{(l)}=W^{(l)}h_i^{(l)},(1)\\end{align}\n",
    "\n",
    "The first one shows linear transformation. It's common and can be\n",
    "easily implemented in Pytorch using ``torch.nn.Linear``.\n",
    "\n",
    "### Equation (2)\n",
    "\n",
    "\\begin{align}e_{ij}^{(l)}=\\text{LeakyReLU}(\\vec a^{(l)^T}(z_i^{(l)}|z_j^{(l)})),(2)\\end{align}\n",
    "\n",
    "The un-normalized attention score $e_{ij}$ is calculated using the\n",
    "embeddings of adjacent nodes $i$ and $j$. This suggests that the\n",
    "attention scores can be viewed as edge data, which can be calculated by the\n",
    "``apply_edges`` API. The argument to the ``apply_edges`` is an **Edge UDF**,\n",
    "which is defined as below:\n",
    "\n"
   ]
  },
  {
   "cell_type": "code",
   "execution_count": 3,
   "metadata": {
    "collapsed": false,
    "execution": {
     "iopub.execute_input": "2024-06-27T04:41:29.225834Z",
     "iopub.status.busy": "2024-06-27T04:41:29.225465Z",
     "iopub.status.idle": "2024-06-27T04:41:29.229346Z",
     "shell.execute_reply": "2024-06-27T04:41:29.228714Z"
    }
   },
   "outputs": [],
   "source": [
    "def edge_attention(self, edges):\n",
    "    # edge UDF for equation (2)\n",
    "    z2 = torch.cat([edges.src[\"z\"], edges.dst[\"z\"]], dim=1)\n",
    "    a = self.attn_fc(z2)\n",
    "    return {\"e\": F.leaky_relu(a)}"
   ]
  },
  {
   "cell_type": "markdown",
   "metadata": {},
   "source": [
    "Here, the dot product with the learnable weight vector $\\vec{a^{(l)}}$\n",
    "is implemented again using PyTorch's linear transformation ``attn_fc``. Note\n",
    "that ``apply_edges`` will **batch** all the edge data in one tensor, so the\n",
    "``cat``, ``attn_fc`` here are applied on all the edges in parallel.\n",
    "\n",
    "### Equation (3) & (4)\n",
    "\n",
    "\\begin{align}\\begin{align}\n",
    "  \\alpha_{ij}^{(l)}&=\\frac{\\exp(e_{ij}^{(l)})}{\\sum_{k\\in \\mathcal{N}(i)}^{}\\exp(e_{ik}^{(l)})},&(3)\\\\\n",
    "  h_i^{(l+1)}&=\\sigma\\left(\\sum_{j\\in \\mathcal{N}(i)} {\\alpha^{(l)}_{ij} z^{(l)}_j }\\right),&(4)\n",
    "  \\end{align}\\end{align}\n",
    "\n",
    "Similar to GCN, ``update_all`` API is used to trigger message passing on all\n",
    "the nodes. The message function sends out two tensors: the transformed ``z``\n",
    "embedding of the source node and the un-normalized attention score ``e`` on\n",
    "each edge. The reduce function then performs two tasks:\n",
    "\n",
    "\n",
    "* Normalize the attention scores using softmax (equation (3)).\n",
    "* Aggregate neighbor embeddings weighted by the attention scores (equation(4)).\n",
    "\n",
    "Both tasks first fetch data from the mailbox and then manipulate it on the\n",
    "second dimension (``dim=1``), on which the messages are batched.\n",
    "\n"
   ]
  },
  {
   "cell_type": "code",
   "execution_count": 4,
   "metadata": {
    "collapsed": false,
    "execution": {
     "iopub.execute_input": "2024-06-27T04:41:29.231842Z",
     "iopub.status.busy": "2024-06-27T04:41:29.231372Z",
     "iopub.status.idle": "2024-06-27T04:41:29.235058Z",
     "shell.execute_reply": "2024-06-27T04:41:29.234447Z"
    }
   },
   "outputs": [],
   "source": [
    "def reduce_func(self, nodes):\n",
    "    # reduce UDF for equation (3) & (4)\n",
    "    # equation (3)\n",
    "    alpha = F.softmax(nodes.mailbox[\"e\"], dim=1)\n",
    "    # equation (4)\n",
    "    h = torch.sum(alpha * nodes.mailbox[\"z\"], dim=1)\n",
    "    return {\"h\": h}"
   ]
  },
  {
   "cell_type": "markdown",
   "metadata": {},
   "source": [
    "### Multi-head attention\n",
    "\n",
    "Analogous to multiple channels in ConvNet, GAT introduces **multi-head\n",
    "attention** to enrich the model capacity and to stabilize the learning\n",
    "process. Each attention head has its own parameters and their outputs can be\n",
    "merged in two ways:\n",
    "\n",
    "\\begin{align}\\text{concatenation}: h^{(l+1)}_{i} =||_{k=1}^{K}\\sigma\\left(\\sum_{j\\in \\mathcal{N}(i)}\\alpha_{ij}^{k}W^{k}h^{(l)}_{j}\\right)\\end{align}\n",
    "\n",
    "or\n",
    "\n",
    "\\begin{align}\\text{average}: h_{i}^{(l+1)}=\\sigma\\left(\\frac{1}{K}\\sum_{k=1}^{K}\\sum_{j\\in\\mathcal{N}(i)}\\alpha_{ij}^{k}W^{k}h^{(l)}_{j}\\right)\\end{align}\n",
    "\n",
    "where $K$ is the number of heads. You can use\n",
    "concatenation for intermediary layers and average for the final layer.\n",
    "\n",
    "Use the above defined single-head ``GATLayer`` as the building block\n",
    "for the ``MultiHeadGATLayer`` below:\n",
    "\n"
   ]
  },
  {
   "cell_type": "code",
   "execution_count": 5,
   "metadata": {
    "collapsed": false,
    "execution": {
     "iopub.execute_input": "2024-06-27T04:41:29.237577Z",
     "iopub.status.busy": "2024-06-27T04:41:29.237088Z",
     "iopub.status.idle": "2024-06-27T04:41:29.242052Z",
     "shell.execute_reply": "2024-06-27T04:41:29.241432Z"
    }
   },
   "outputs": [],
   "source": [
    "class MultiHeadGATLayer(nn.Module):\n",
    "    def __init__(self, g, in_dim, out_dim, num_heads, merge=\"cat\"):\n",
    "        super(MultiHeadGATLayer, self).__init__()\n",
    "        self.heads = nn.ModuleList()\n",
    "        for i in range(num_heads):\n",
    "            self.heads.append(GATLayer(g, in_dim, out_dim))\n",
    "        self.merge = merge\n",
    "\n",
    "    def forward(self, h):\n",
    "        head_outs = [attn_head(h) for attn_head in self.heads]\n",
    "        if self.merge == \"cat\":\n",
    "            # concat on the output feature dimension (dim=1)\n",
    "            return torch.cat(head_outs, dim=1)\n",
    "        else:\n",
    "            # merge using average\n",
    "            return torch.mean(torch.stack(head_outs))"
   ]
  },
  {
   "cell_type": "markdown",
   "metadata": {},
   "source": [
    "### Put everything together\n",
    "\n",
    "Now, you can define a two-layer GAT model.\n",
    "\n"
   ]
  },
  {
   "cell_type": "code",
   "execution_count": 6,
   "metadata": {
    "collapsed": false,
    "execution": {
     "iopub.execute_input": "2024-06-27T04:41:29.244464Z",
     "iopub.status.busy": "2024-06-27T04:41:29.244076Z",
     "iopub.status.idle": "2024-06-27T04:41:29.248054Z",
     "shell.execute_reply": "2024-06-27T04:41:29.247548Z"
    }
   },
   "outputs": [],
   "source": [
    "class GAT(nn.Module):\n",
    "    def __init__(self, g, in_dim, hidden_dim, out_dim, num_heads):\n",
    "        super(GAT, self).__init__()\n",
    "        self.layer1 = MultiHeadGATLayer(g, in_dim, hidden_dim, num_heads)\n",
    "        # Be aware that the input dimension is hidden_dim*num_heads since\n",
    "        # multiple head outputs are concatenated together. Also, only\n",
    "        # one attention head in the output layer.\n",
    "        self.layer2 = MultiHeadGATLayer(g, hidden_dim * num_heads, out_dim, 1)\n",
    "\n",
    "    def forward(self, h):\n",
    "        h = self.layer1(h)\n",
    "        h = F.elu(h)\n",
    "        h = self.layer2(h)\n",
    "        return h\n",
    "\n",
    "\n",
    "import networkx as nx"
   ]
  },
  {
   "cell_type": "markdown",
   "metadata": {},
   "source": [
    "We then load the Cora dataset using DGL's built-in data module.\n",
    "\n"
   ]
  },
  {
   "cell_type": "code",
   "execution_count": 7,
   "metadata": {
    "collapsed": false,
    "execution": {
     "iopub.execute_input": "2024-06-27T04:41:29.250340Z",
     "iopub.status.busy": "2024-06-27T04:41:29.249966Z",
     "iopub.status.idle": "2024-06-27T04:41:29.253240Z",
     "shell.execute_reply": "2024-06-27T04:41:29.252734Z"
    }
   },
   "outputs": [],
   "source": [
    "from dgl import DGLGraph\n",
    "from dgl.data import citation_graph as citegrh\n",
    "\n",
    "\n",
    "def load_cora_data():\n",
    "    data = citegrh.load_cora()\n",
    "    g = data[0]\n",
    "    mask = torch.BoolTensor(g.ndata[\"train_mask\"])\n",
    "    return g, g.ndata[\"feat\"], g.ndata[\"label\"], mask"
   ]
  },
  {
   "cell_type": "markdown",
   "metadata": {},
   "source": [
    "The training loop is exactly the same as in the GCN tutorial.\n",
    "\n"
   ]
  },
  {
   "cell_type": "code",
   "execution_count": 8,
   "metadata": {
    "collapsed": false,
    "execution": {
     "iopub.execute_input": "2024-06-27T04:41:29.255489Z",
     "iopub.status.busy": "2024-06-27T04:41:29.255193Z",
     "iopub.status.idle": "2024-06-27T04:41:32.789858Z",
     "shell.execute_reply": "2024-06-27T04:41:32.789144Z"
    }
   },
   "outputs": [
    {
     "name": "stdout",
     "output_type": "stream",
     "text": [
      "  NumNodes: 2708\n",
      "  NumEdges: 10556\n",
      "  NumFeats: 1433\n",
      "  NumClasses: 7\n",
      "  NumTrainingSamples: 140\n",
      "  NumValidationSamples: 500\n",
      "  NumTestSamples: 1000\n",
      "Done loading data from cached files.\n"
     ]
    },
    {
     "name": "stderr",
     "output_type": "stream",
     "text": [
      "/opt/conda/envs/cpu/lib/python3.10/site-packages/numpy/core/fromnumeric.py:3504: RuntimeWarning: Mean of empty slice.\n",
      "  return _methods._mean(a, axis=axis, dtype=dtype,\n",
      "/opt/conda/envs/cpu/lib/python3.10/site-packages/numpy/core/_methods.py:129: RuntimeWarning: invalid value encountered in scalar divide\n",
      "  ret = ret.dtype.type(ret / rcount)\n"
     ]
    },
    {
     "name": "stdout",
     "output_type": "stream",
     "text": [
      "Epoch 00000 | Loss 1.9463 | Time(s) nan\n",
      "Epoch 00001 | Loss 1.9438 | Time(s) nan\n"
     ]
    },
    {
     "name": "stdout",
     "output_type": "stream",
     "text": [
      "Epoch 00002 | Loss 1.9413 | Time(s) nan\n",
      "Epoch 00003 | Loss 1.9388 | Time(s) 0.1164\n"
     ]
    },
    {
     "name": "stdout",
     "output_type": "stream",
     "text": [
      "Epoch 00004 | Loss 1.9363 | Time(s) 0.1102\n",
      "Epoch 00005 | Loss 1.9338 | Time(s) 0.1075\n"
     ]
    },
    {
     "name": "stdout",
     "output_type": "stream",
     "text": [
      "Epoch 00006 | Loss 1.9313 | Time(s) 0.1061\n",
      "Epoch 00007 | Loss 1.9288 | Time(s) 0.1053\n"
     ]
    },
    {
     "name": "stdout",
     "output_type": "stream",
     "text": [
      "Epoch 00008 | Loss 1.9263 | Time(s) 0.1048\n",
      "Epoch 00009 | Loss 1.9238 | Time(s) 0.1043\n"
     ]
    },
    {
     "name": "stdout",
     "output_type": "stream",
     "text": [
      "Epoch 00010 | Loss 1.9213 | Time(s) 0.1042\n",
      "Epoch 00011 | Loss 1.9187 | Time(s) 0.1041\n"
     ]
    },
    {
     "name": "stdout",
     "output_type": "stream",
     "text": [
      "Epoch 00012 | Loss 1.9162 | Time(s) 0.1039\n",
      "Epoch 00013 | Loss 1.9137 | Time(s) 0.1037\n"
     ]
    },
    {
     "name": "stdout",
     "output_type": "stream",
     "text": [
      "Epoch 00014 | Loss 1.9111 | Time(s) 0.1035\n",
      "Epoch 00015 | Loss 1.9085 | Time(s) 0.1034\n"
     ]
    },
    {
     "name": "stdout",
     "output_type": "stream",
     "text": [
      "Epoch 00016 | Loss 1.9060 | Time(s) 0.1033\n",
      "Epoch 00017 | Loss 1.9034 | Time(s) 0.1032\n"
     ]
    },
    {
     "name": "stdout",
     "output_type": "stream",
     "text": [
      "Epoch 00018 | Loss 1.9008 | Time(s) 0.1031\n",
      "Epoch 00019 | Loss 1.8982 | Time(s) 0.1030\n"
     ]
    },
    {
     "name": "stdout",
     "output_type": "stream",
     "text": [
      "Epoch 00020 | Loss 1.8956 | Time(s) 0.1029\n",
      "Epoch 00021 | Loss 1.8930 | Time(s) 0.1029\n"
     ]
    },
    {
     "name": "stdout",
     "output_type": "stream",
     "text": [
      "Epoch 00022 | Loss 1.8904 | Time(s) 0.1028\n",
      "Epoch 00023 | Loss 1.8877 | Time(s) 0.1028\n"
     ]
    },
    {
     "name": "stdout",
     "output_type": "stream",
     "text": [
      "Epoch 00024 | Loss 1.8851 | Time(s) 0.1030\n",
      "Epoch 00025 | Loss 1.8824 | Time(s) 0.1030\n"
     ]
    },
    {
     "name": "stdout",
     "output_type": "stream",
     "text": [
      "Epoch 00026 | Loss 1.8797 | Time(s) 0.1030\n",
      "Epoch 00027 | Loss 1.8771 | Time(s) 0.1031\n"
     ]
    },
    {
     "name": "stdout",
     "output_type": "stream",
     "text": [
      "Epoch 00028 | Loss 1.8744 | Time(s) 0.1036\n",
      "Epoch 00029 | Loss 1.8717 | Time(s) 0.1040\n"
     ]
    }
   ],
   "source": [
    "import time\n",
    "\n",
    "import numpy as np\n",
    "\n",
    "g, features, labels, mask = load_cora_data()\n",
    "\n",
    "# create the model, 2 heads, each head has hidden size 8\n",
    "net = GAT(g, in_dim=features.size()[1], hidden_dim=8, out_dim=7, num_heads=2)\n",
    "\n",
    "# create optimizer\n",
    "optimizer = torch.optim.Adam(net.parameters(), lr=1e-3)\n",
    "\n",
    "# main loop\n",
    "dur = []\n",
    "for epoch in range(30):\n",
    "    if epoch >= 3:\n",
    "        t0 = time.time()\n",
    "\n",
    "    logits = net(features)\n",
    "    logp = F.log_softmax(logits, 1)\n",
    "    loss = F.nll_loss(logp[mask], labels[mask])\n",
    "\n",
    "    optimizer.zero_grad()\n",
    "    loss.backward()\n",
    "    optimizer.step()\n",
    "\n",
    "    if epoch >= 3:\n",
    "        dur.append(time.time() - t0)\n",
    "\n",
    "    print(\n",
    "        \"Epoch {:05d} | Loss {:.4f} | Time(s) {:.4f}\".format(\n",
    "            epoch, loss.item(), np.mean(dur)\n",
    "        )\n",
    "    )"
   ]
  },
  {
   "cell_type": "markdown",
   "metadata": {},
   "source": [
    "## Visualizing and understanding attention learned\n",
    "\n",
    "### Cora\n",
    "\n",
    "The following table summarizes the model performance on Cora that is reported in\n",
    "[the GAT paper](https://arxiv.org/pdf/1710.10903.pdf) and obtained with DGL\n",
    "implementations.\n",
    "\n",
    ".. list-table::\n",
    "   :header-rows: 1\n",
    "\n",
    "   * - Model\n",
    "     - Accuracy\n",
    "   * - GCN (paper)\n",
    "     - $81.4\\pm 0.5%$\n",
    "   * - GCN (dgl)\n",
    "     - $82.05\\pm 0.33%$\n",
    "   * - GAT (paper)\n",
    "     - $83.0\\pm 0.7%$\n",
    "   * - GAT (dgl)\n",
    "     - $83.69\\pm 0.529%$\n",
    "\n",
    "*What kind of attention distribution has our model learned?*\n",
    "\n",
    "Because the attention weight $a_{ij}$ is associated with edges, you can\n",
    "visualize it by coloring edges. Below you can pick a subgraph of Cora and plot the\n",
    "attention weights of the last ``GATLayer``. The nodes are colored according\n",
    "to their labels, whereas the edges are colored according to the magnitude of\n",
    "the attention weights, which can be referred with the colorbar on the right.\n",
    "\n",
    "<img src=\"https://data.dgl.ai/tutorial/gat/cora-attention.png\" width=\"600px\" align=\"center\">\n",
    "\n",
    "You can see that the model seems to learn different attention weights. To\n",
    "understand the distribution more thoroughly, measure the [entropy](https://en.wikipedia.org/wiki/Entropy_(information_theory)) of the\n",
    "attention distribution. For any node $i$,\n",
    "$\\{\\alpha_{ij}\\}_{j\\in\\mathcal{N}(i)}$ forms a discrete probability\n",
    "distribution over all its neighbors with the entropy given by\n",
    "\n",
    "\\begin{align}H({\\alpha_{ij}}_{j\\in\\mathcal{N}(i)})=-\\sum_{j\\in\\mathcal{N}(i)} \\alpha_{ij}\\log\\alpha_{ij}\\end{align}\n",
    "\n",
    "A low entropy means a high degree of concentration, and vice\n",
    "versa. An entropy of 0 means all attention is on one source node. The uniform\n",
    "distribution has the highest entropy of $\\log(\\mathcal{N}(i))$.\n",
    "Ideally, you want to see the model learns a distribution of lower entropy\n",
    "(i.e, one or two neighbors are much more important than the others).\n",
    "\n",
    "Note that since nodes can have different degrees, the maximum entropy will\n",
    "also be different. Therefore, you plot the aggregated histogram of entropy\n",
    "values of all nodes in the entire graph. Below are the attention histogram of\n",
    "learned by each attention head.\n",
    "\n",
    "|image2|\n",
    "\n",
    "As a reference, here is the histogram if all the nodes have uniform attention weight distribution.\n",
    "\n",
    "<img src=\"https://data.dgl.ai/tutorial/gat/cora-attention-uniform-hist.png\" width=\"250px\" align=\"center\">\n",
    "\n",
    "One can see that **the attention values learned is quite similar to uniform distribution**\n",
    "(i.e, all neighbors are equally important). This partially\n",
    "explains why the performance of GAT is close to that of GCN on Cora\n",
    "(according to [author's reported result](https://arxiv.org/pdf/1710.10903.pdf), the accuracy difference averaged\n",
    "over 100 runs is less than 2 percent). Attention does not matter\n",
    "since it does not differentiate much.\n",
    "\n",
    "*Does that mean the attention mechanism is not useful?* No! A different\n",
    "dataset exhibits an entirely different pattern, as you can see next.\n",
    "\n",
    "### Protein-protein interaction (PPI) networks\n",
    "\n",
    "The PPI dataset used here consists of $24$ graphs corresponding to\n",
    "different human tissues. Nodes can have up to $121$ kinds of labels, so\n",
    "the label of node is represented as a binary tensor of size $121$. The\n",
    "task is to predict node label.\n",
    "\n",
    "Use $20$ graphs for training, $2$ for validation and $2$\n",
    "for test. The average number of nodes per graph is $2372$. Each node\n",
    "has $50$ features that are composed of positional gene sets, motif gene\n",
    "sets, and immunological signatures. Critically, test graphs remain completely\n",
    "unobserved during training, a setting called \"inductive learning\".\n",
    "\n",
    "Compare the performance of GAT and GCN for $10$ random runs on this\n",
    "task and use hyperparameter search on the validation set to find the best\n",
    "model.\n",
    "\n",
    ".. list-table::\n",
    "   :header-rows: 1\n",
    "\n",
    "   * - Model\n",
    "     - F1 Score(micro)\n",
    "   * - GAT\n",
    "     - $0.975 \\pm 0.006$\n",
    "   * - GCN\n",
    "     - $0.509 \\pm 0.025$\n",
    "   * - Paper\n",
    "     - $0.973 \\pm 0.002$\n",
    "\n",
    "The table above is the result of this experiment, where you use micro [F1\n",
    "score](https://en.wikipedia.org/wiki/F1_score) to evaluate the model\n",
    "performance.\n",
    "\n",
    "<div class=\"alert alert-info\"><h4>Note</h4><p>Below is the calculation process of F1 score:\n",
    "\n",
    "  .. math::\n",
    "\n",
    "     precision=\\frac{\\sum_{t=1}^{n}TP_{t}}{\\sum_{t=1}^{n}(TP_{t} +FP_{t})}\n",
    "\n",
    "     recall=\\frac{\\sum_{t=1}^{n}TP_{t}}{\\sum_{t=1}^{n}(TP_{t} +FN_{t})}\n",
    "\n",
    "     F1_{micro}=2\\frac{precision*recall}{precision+recall}\n",
    "\n",
    "  * $TP_{t}$ represents for number of nodes that both have and are predicted to have label $t$\n",
    "  * $FP_{t}$ represents for number of nodes that do not have but are predicted to have label $t$\n",
    "  * $FN_{t}$ represents for number of output classes labeled as $t$ but predicted as others.\n",
    "  * $n$ is the number of labels, i.e. $121$ in our case.</p></div>\n",
    "\n",
    "During training, use ``BCEWithLogitsLoss`` as the loss function. The\n",
    "learning curves of GAT and GCN are presented below; what is evident is the\n",
    "dramatic performance adavantage of GAT over GCN.\n",
    "\n",
    "<img src=\"https://data.dgl.ai/tutorial/gat/ppi-curve.png\" width=\"300px\" align=\"center\">\n",
    "\n",
    "As before, you can have a statistical understanding of the attentions learned\n",
    "by showing the histogram plot for the node-wise attention entropy. Below are\n",
    "the attention histograms learned by different attention layers.\n",
    "\n",
    "*Attention learned in layer 1:*\n",
    "\n",
    "|image5|\n",
    "\n",
    "*Attention learned in layer 2:*\n",
    "\n",
    "|image6|\n",
    "\n",
    "*Attention learned in final layer:*\n",
    "\n",
    "|image7|\n",
    "\n",
    "Again, comparing with uniform distribution:\n",
    "\n",
    "<img src=\"https://data.dgl.ai/tutorial/gat/ppi-uniform-hist.png\" width=\"250px\" align=\"center\">\n",
    "\n",
    "Clearly, **GAT does learn sharp attention weights**! There is a clear pattern\n",
    "over the layers as well: **the attention gets sharper with a higher\n",
    "layer**.\n",
    "\n",
    "Unlike the Cora dataset where GAT's gain is minimal at best, for PPI there\n",
    "is a significant performance gap between GAT and other GNN variants compared\n",
    "in [the GAT paper](https://arxiv.org/pdf/1710.10903.pdf) (at least 20 percent),\n",
    "and the attention distributions between the two clearly differ. While this\n",
    "deserves further research, one immediate conclusion is that GAT's advantage\n",
    "lies perhaps more in its ability to handle a graph with more complex\n",
    "neighborhood structure.\n",
    "\n",
    "## What's next?\n",
    "\n",
    "So far, you have seen how to use DGL to implement GAT. There are some\n",
    "missing details such as dropout, skip connections, and hyper-parameter tuning,\n",
    "which are practices that do not involve DGL-related concepts. For more information\n",
    "check out the full example.\n",
    "\n",
    "* See the optimized [full example](https://github.com/dmlc/dgl/blob/master/examples/pytorch/gat/gat.py).\n",
    "* The next tutorial describes how to speedup GAT models by parallelizing multiple attention heads and SPMV optimization.\n",
    "\n",
    ".. |image2| image:: https://data.dgl.ai/tutorial/gat/cora-attention-hist.png\n",
    ".. |image5| image:: https://data.dgl.ai/tutorial/gat/ppi-first-layer-hist.png\n",
    ".. |image6| image:: https://data.dgl.ai/tutorial/gat/ppi-second-layer-hist.png\n",
    ".. |image7| image:: https://data.dgl.ai/tutorial/gat/ppi-final-layer-hist.png\n",
    "\n"
   ]
  }
 ],
 "metadata": {
  "kernelspec": {
   "display_name": "Python 3",
   "language": "python",
   "name": "python3"
  },
  "language_info": {
   "codemirror_mode": {
    "name": "ipython",
    "version": 3
   },
   "file_extension": ".py",
   "mimetype": "text/x-python",
   "name": "python",
   "nbconvert_exporter": "python",
   "pygments_lexer": "ipython3",
   "version": "3.10.14"
  }
 },
 "nbformat": 4,
 "nbformat_minor": 0
}
