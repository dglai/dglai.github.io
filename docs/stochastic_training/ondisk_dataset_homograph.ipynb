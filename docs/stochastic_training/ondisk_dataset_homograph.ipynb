{
 "cells": [
  {
   "cell_type": "markdown",
   "metadata": {
    "id": "FnFhPMaAfLtJ"
   },
   "source": [
    "# OnDiskDataset for Homogeneous Graph\n",
    "\n",
    "[![Open In Colab](https://colab.research.google.com/assets/colab-badge.svg)](https://colab.research.google.com/github/dmlc/dgl/blob/master/notebooks/stochastic_training/ondisk_dataset_homograph.ipynb) [![GitHub](https://img.shields.io/badge/-View%20on%20GitHub-181717?logo=github&logoColor=ffffff)](https://github.com/dmlc/dgl/blob/master/notebooks/stochastic_training/ondisk_dataset_homograph.ipynb)\n",
    "\n",
    "This tutorial shows how to create `OnDiskDataset` for homogeneous graph that could be used in **GraphBolt** framework.\n",
    "\n",
    "By the end of this tutorial, you will be able to\n",
    "\n",
    "- organize graph structure data.\n",
    "- organize feature data.\n",
    "- organize training/validation/test set for specific tasks.\n",
    "\n",
    "To create an ``OnDiskDataset`` object, you need to organize all the data including graph structure, feature data and tasks into a directory. The directory should contain a ``metadata.yaml`` file that describes the metadata of the dataset.\n",
    "\n",
    "Now let's generate various data step by step and organize them together to instantiate `OnDiskDataset` finally."
   ]
  },
  {
   "cell_type": "markdown",
   "metadata": {
    "id": "Wlb19DtWgtzq"
   },
   "source": [
    "## Install DGL package"
   ]
  },
  {
   "cell_type": "code",
   "execution_count": 1,
   "metadata": {
    "execution": {
     "iopub.execute_input": "2024-06-27T04:39:26.141253Z",
     "iopub.status.busy": "2024-06-27T04:39:26.140931Z",
     "iopub.status.idle": "2024-06-27T04:39:30.943620Z",
     "shell.execute_reply": "2024-06-27T04:39:30.942900Z"
    },
    "id": "UojlT9ZGgyr9"
   },
   "outputs": [
    {
     "name": "stdout",
     "output_type": "stream",
     "text": [
      "Looking in links: https://data.dgl.ai/wheels-test/repo.html\r\n",
      "Requirement already satisfied: dgl in /opt/conda/envs/cpu/lib/python3.10/site-packages (2.2a240410)\r\n",
      "Requirement already satisfied: numpy>=1.14.0 in /opt/conda/envs/cpu/lib/python3.10/site-packages (from dgl) (1.26.4)\r\n",
      "Requirement already satisfied: scipy>=1.1.0 in /opt/conda/envs/cpu/lib/python3.10/site-packages (from dgl) (1.14.0)\r\n",
      "Requirement already satisfied: networkx>=2.1 in /opt/conda/envs/cpu/lib/python3.10/site-packages (from dgl) (3.3)\r\n",
      "Requirement already satisfied: requests>=2.19.0 in /opt/conda/envs/cpu/lib/python3.10/site-packages (from dgl) (2.32.3)\r\n",
      "Requirement already satisfied: tqdm in /opt/conda/envs/cpu/lib/python3.10/site-packages (from dgl) (4.66.4)\r\n",
      "Requirement already satisfied: psutil>=5.8.0 in /opt/conda/envs/cpu/lib/python3.10/site-packages (from dgl) (6.0.0)\r\n",
      "Requirement already satisfied: torchdata>=0.5.0 in /opt/conda/envs/cpu/lib/python3.10/site-packages (from dgl) (0.7.1)\r\n",
      "Requirement already satisfied: pandas in /opt/conda/envs/cpu/lib/python3.10/site-packages (from dgl) (2.2.2)\r\n"
     ]
    },
    {
     "name": "stdout",
     "output_type": "stream",
     "text": [
      "Requirement already satisfied: charset-normalizer<4,>=2 in /opt/conda/envs/cpu/lib/python3.10/site-packages (from requests>=2.19.0->dgl) (3.3.2)\r\n",
      "Requirement already satisfied: idna<4,>=2.5 in /opt/conda/envs/cpu/lib/python3.10/site-packages (from requests>=2.19.0->dgl) (3.7)\r\n",
      "Requirement already satisfied: urllib3<3,>=1.21.1 in /opt/conda/envs/cpu/lib/python3.10/site-packages (from requests>=2.19.0->dgl) (2.2.2)\r\n",
      "Requirement already satisfied: certifi>=2017.4.17 in /opt/conda/envs/cpu/lib/python3.10/site-packages (from requests>=2.19.0->dgl) (2024.6.2)\r\n",
      "Requirement already satisfied: torch>=2 in /opt/conda/envs/cpu/lib/python3.10/site-packages (from torchdata>=0.5.0->dgl) (2.1.0+cpu)\r\n"
     ]
    },
    {
     "name": "stdout",
     "output_type": "stream",
     "text": [
      "Requirement already satisfied: python-dateutil>=2.8.2 in /opt/conda/envs/cpu/lib/python3.10/site-packages (from pandas->dgl) (2.9.0.post0)\r\n",
      "Requirement already satisfied: pytz>=2020.1 in /opt/conda/envs/cpu/lib/python3.10/site-packages (from pandas->dgl) (2024.1)\r\n",
      "Requirement already satisfied: tzdata>=2022.7 in /opt/conda/envs/cpu/lib/python3.10/site-packages (from pandas->dgl) (2024.1)\r\n",
      "Requirement already satisfied: six>=1.5 in /opt/conda/envs/cpu/lib/python3.10/site-packages (from python-dateutil>=2.8.2->pandas->dgl) (1.16.0)\r\n",
      "Requirement already satisfied: filelock in /opt/conda/envs/cpu/lib/python3.10/site-packages (from torch>=2->torchdata>=0.5.0->dgl) (3.15.4)\r\n",
      "Requirement already satisfied: typing-extensions in /opt/conda/envs/cpu/lib/python3.10/site-packages (from torch>=2->torchdata>=0.5.0->dgl) (4.12.2)\r\n",
      "Requirement already satisfied: sympy in /opt/conda/envs/cpu/lib/python3.10/site-packages (from torch>=2->torchdata>=0.5.0->dgl) (1.12.1)\r\n",
      "Requirement already satisfied: jinja2 in /opt/conda/envs/cpu/lib/python3.10/site-packages (from torch>=2->torchdata>=0.5.0->dgl) (3.1.4)\r\n",
      "Requirement already satisfied: fsspec in /opt/conda/envs/cpu/lib/python3.10/site-packages (from torch>=2->torchdata>=0.5.0->dgl) (2024.6.0)\r\n"
     ]
    },
    {
     "name": "stdout",
     "output_type": "stream",
     "text": [
      "Requirement already satisfied: MarkupSafe>=2.0 in /opt/conda/envs/cpu/lib/python3.10/site-packages (from jinja2->torch>=2->torchdata>=0.5.0->dgl) (2.1.5)\r\n",
      "Requirement already satisfied: mpmath<1.4.0,>=1.1.0 in /opt/conda/envs/cpu/lib/python3.10/site-packages (from sympy->torch>=2->torchdata>=0.5.0->dgl) (1.3.0)\r\n"
     ]
    },
    {
     "name": "stdout",
     "output_type": "stream",
     "text": [
      "DGL installed!\n"
     ]
    }
   ],
   "source": [
    "# Install required packages.\n",
    "import os\n",
    "import torch\n",
    "import numpy as np\n",
    "os.environ['TORCH'] = torch.__version__\n",
    "os.environ['DGLBACKEND'] = \"pytorch\"\n",
    "\n",
    "# Install the CPU version.\n",
    "device = torch.device(\"cpu\")\n",
    "!pip install --pre dgl -f https://data.dgl.ai/wheels-test/repo.html\n",
    "\n",
    "try:\n",
    "    import dgl\n",
    "    import dgl.graphbolt as gb\n",
    "    installed = True\n",
    "except ImportError as error:\n",
    "    installed = False\n",
    "    print(error)\n",
    "print(\"DGL installed!\" if installed else \"DGL not found!\")"
   ]
  },
  {
   "cell_type": "markdown",
   "metadata": {
    "id": "2R7WnSbjsfbr"
   },
   "source": [
    "## Data preparation\n",
    "In order to demonstrate how to organize various data, let's create a base directory first."
   ]
  },
  {
   "cell_type": "code",
   "execution_count": 2,
   "metadata": {
    "execution": {
     "iopub.execute_input": "2024-06-27T04:39:30.946880Z",
     "iopub.status.busy": "2024-06-27T04:39:30.946134Z",
     "iopub.status.idle": "2024-06-27T04:39:30.950273Z",
     "shell.execute_reply": "2024-06-27T04:39:30.949629Z"
    },
    "id": "SZipbzyltLfO"
   },
   "outputs": [
    {
     "name": "stdout",
     "output_type": "stream",
     "text": [
      "Created base directory: ./ondisk_dataset_homograph\n"
     ]
    }
   ],
   "source": [
    "base_dir = './ondisk_dataset_homograph'\n",
    "os.makedirs(base_dir, exist_ok=True)\n",
    "print(f\"Created base directory: {base_dir}\")"
   ]
  },
  {
   "cell_type": "markdown",
   "metadata": {
    "id": "qhNtIn_xhlnl"
   },
   "source": [
    "### Generate graph structure data\n",
    "For homogeneous graph, we just need to save edges(namely seeds) into  **Numpy** or **CSV** file.\n",
    "\n",
    "Note:\n",
    "- when saving to **Numpy**, the array requires to be in shape of `(2, N)`. This format is recommended as constructing graph from it is much faster than **CSV** file.\n",
    "- when saving to **CSV** file, do not save index and header.\n"
   ]
  },
  {
   "cell_type": "code",
   "execution_count": 3,
   "metadata": {
    "execution": {
     "iopub.execute_input": "2024-06-27T04:39:30.952796Z",
     "iopub.status.busy": "2024-06-27T04:39:30.952379Z",
     "iopub.status.idle": "2024-06-27T04:39:30.965832Z",
     "shell.execute_reply": "2024-06-27T04:39:30.965273Z"
    },
    "id": "HcBt4G5BmSjr"
   },
   "outputs": [
    {
     "name": "stdout",
     "output_type": "stream",
     "text": [
      "Part of edges: [[390  60]\n",
      " [687 652]\n",
      " [ 58 522]\n",
      " [424 876]\n",
      " [458 264]]\n",
      "Edges are saved into ./ondisk_dataset_homograph/edges.csv\n"
     ]
    }
   ],
   "source": [
    "import numpy as np\n",
    "import pandas as pd\n",
    "num_nodes = 1000\n",
    "num_edges = 10 * num_nodes\n",
    "edges_path = os.path.join(base_dir, \"edges.csv\")\n",
    "edges = np.random.randint(0, num_nodes, size=(num_edges, 2))\n",
    "\n",
    "print(f\"Part of edges: {edges[:5, :]}\")\n",
    "\n",
    "df = pd.DataFrame(edges)\n",
    "df.to_csv(edges_path, index=False, header=False)\n",
    "\n",
    "print(f\"Edges are saved into {edges_path}\")"
   ]
  },
  {
   "cell_type": "markdown",
   "metadata": {
    "id": "kh-4cPtzpcaH"
   },
   "source": [
    "### Generate feature data for graph\n",
    "For feature data, numpy arrays and torch tensors are supported for now."
   ]
  },
  {
   "cell_type": "code",
   "execution_count": 4,
   "metadata": {
    "execution": {
     "iopub.execute_input": "2024-06-27T04:39:30.968282Z",
     "iopub.status.busy": "2024-06-27T04:39:30.967974Z",
     "iopub.status.idle": "2024-06-27T04:39:30.997640Z",
     "shell.execute_reply": "2024-06-27T04:39:30.997122Z"
    },
    "id": "_PVu1u5brBhF"
   },
   "outputs": [
    {
     "name": "stdout",
     "output_type": "stream",
     "text": [
      "Part of node feature [feat_0]: [[0.83472778 0.43839568 0.454196   0.15292396 0.34782471]\n",
      " [0.80809125 0.78445484 0.09582967 0.23879554 0.09694628]\n",
      " [0.72944458 0.69516037 0.5392093  0.39184907 0.96331221]]\n",
      "Node feature [feat_0] is saved to ./ondisk_dataset_homograph/node-feat-0.npy\n",
      "\n",
      "Part of node feature [feat_1]: tensor([[0.0634, 0.2479, 0.8408, 0.4974, 0.0316],\n",
      "        [0.3267, 0.3299, 0.5629, 0.3130, 0.4152],\n",
      "        [0.6098, 0.7533, 0.8637, 0.6387, 0.2124]])\n",
      "Node feature [feat_1] is saved to ./ondisk_dataset_homograph/node-feat-1.pt\n",
      "\n",
      "Part of edge feature [feat_0]: [[0.9299984  0.88418021 0.72045199 0.94478981 0.09471621]\n",
      " [0.50285768 0.54973076 0.15279575 0.47190395 0.0415578 ]\n",
      " [0.59165987 0.47068559 0.45119529 0.56035709 0.42129055]]\n",
      "Edge feature [feat_0] is saved to ./ondisk_dataset_homograph/edge-feat-0.npy\n",
      "\n",
      "Part of edge feature [feat_1]: tensor([[0.5772, 0.2253, 0.2002, 0.6979, 0.8371],\n",
      "        [0.5191, 0.4854, 0.7052, 0.6422, 0.2299],\n",
      "        [0.1067, 0.8716, 0.6406, 0.9596, 0.9487]])\n",
      "Edge feature [feat_1] is saved to ./ondisk_dataset_homograph/edge-feat-1.pt\n",
      "\n"
     ]
    }
   ],
   "source": [
    "# Generate node feature in numpy array.\n",
    "node_feat_0_path = os.path.join(base_dir, \"node-feat-0.npy\")\n",
    "node_feat_0 = np.random.rand(num_nodes, 5)\n",
    "print(f\"Part of node feature [feat_0]: {node_feat_0[:3, :]}\")\n",
    "np.save(node_feat_0_path, node_feat_0)\n",
    "print(f\"Node feature [feat_0] is saved to {node_feat_0_path}\\n\")\n",
    "\n",
    "# Generate another node feature in torch tensor\n",
    "node_feat_1_path = os.path.join(base_dir, \"node-feat-1.pt\")\n",
    "node_feat_1 = torch.rand(num_nodes, 5)\n",
    "print(f\"Part of node feature [feat_1]: {node_feat_1[:3, :]}\")\n",
    "torch.save(node_feat_1, node_feat_1_path)\n",
    "print(f\"Node feature [feat_1] is saved to {node_feat_1_path}\\n\")\n",
    "\n",
    "# Generate edge feature in numpy array.\n",
    "edge_feat_0_path = os.path.join(base_dir, \"edge-feat-0.npy\")\n",
    "edge_feat_0 = np.random.rand(num_edges, 5)\n",
    "print(f\"Part of edge feature [feat_0]: {edge_feat_0[:3, :]}\")\n",
    "np.save(edge_feat_0_path, edge_feat_0)\n",
    "print(f\"Edge feature [feat_0] is saved to {edge_feat_0_path}\\n\")\n",
    "\n",
    "# Generate another edge feature in torch tensor\n",
    "edge_feat_1_path = os.path.join(base_dir, \"edge-feat-1.pt\")\n",
    "edge_feat_1 = torch.rand(num_edges, 5)\n",
    "print(f\"Part of edge feature [feat_1]: {edge_feat_1[:3, :]}\")\n",
    "torch.save(edge_feat_1, edge_feat_1_path)\n",
    "print(f\"Edge feature [feat_1] is saved to {edge_feat_1_path}\\n\")\n"
   ]
  },
  {
   "cell_type": "markdown",
   "metadata": {
    "id": "ZyqgOtsIwzh_"
   },
   "source": [
    "### Generate tasks\n",
    "`OnDiskDataset` supports multiple tasks. For each task, we need to prepare training/validation/test sets respectively. Such sets usually vary among different tasks. In this tutorial, let's create a **Node Classification** task and **Link Prediction** task."
   ]
  },
  {
   "cell_type": "markdown",
   "metadata": {
    "id": "hVxHaDIfzCkr"
   },
   "source": [
    "#### Node Classification Task\n",
    "For node classification task, we need **node IDs** and corresponding **labels** for each training/validation/test set. Like feature data, numpy arrays and torch tensors are supported for these sets."
   ]
  },
  {
   "cell_type": "code",
   "execution_count": 5,
   "metadata": {
    "execution": {
     "iopub.execute_input": "2024-06-27T04:39:31.000112Z",
     "iopub.status.busy": "2024-06-27T04:39:30.999713Z",
     "iopub.status.idle": "2024-06-27T04:39:31.009543Z",
     "shell.execute_reply": "2024-06-27T04:39:31.009018Z"
    },
    "id": "S5-fyBbHzTCO"
   },
   "outputs": [
    {
     "name": "stdout",
     "output_type": "stream",
     "text": [
      "Part of train ids for node classification: [745 257 364]\n",
      "NC train ids are saved to ./ondisk_dataset_homograph/nc-train-ids.npy\n",
      "\n",
      "Part of train labels for node classification: tensor([4, 0, 8])\n",
      "NC train labels are saved to ./ondisk_dataset_homograph/nc-train-labels.pt\n",
      "\n",
      "Part of val ids for node classification: [190 295 691]\n",
      "NC val ids are saved to ./ondisk_dataset_homograph/nc-val-ids.npy\n",
      "\n",
      "Part of val labels for node classification: tensor([9, 1, 6])\n",
      "NC val labels are saved to ./ondisk_dataset_homograph/nc-val-labels.pt\n",
      "\n",
      "Part of test ids for node classification: [300 230 850]\n",
      "NC test ids are saved to ./ondisk_dataset_homograph/nc-test-ids.npy\n",
      "\n",
      "Part of test labels for node classification: tensor([6, 4, 6])\n",
      "NC test labels are saved to ./ondisk_dataset_homograph/nc-test-labels.pt\n",
      "\n"
     ]
    }
   ],
   "source": [
    "num_trains = int(num_nodes * 0.6)\n",
    "num_vals = int(num_nodes * 0.2)\n",
    "num_tests = num_nodes - num_trains - num_vals\n",
    "\n",
    "ids = np.arange(num_nodes)\n",
    "np.random.shuffle(ids)\n",
    "\n",
    "nc_train_ids_path = os.path.join(base_dir, \"nc-train-ids.npy\")\n",
    "nc_train_ids = ids[:num_trains]\n",
    "print(f\"Part of train ids for node classification: {nc_train_ids[:3]}\")\n",
    "np.save(nc_train_ids_path, nc_train_ids)\n",
    "print(f\"NC train ids are saved to {nc_train_ids_path}\\n\")\n",
    "\n",
    "nc_train_labels_path = os.path.join(base_dir, \"nc-train-labels.pt\")\n",
    "nc_train_labels = torch.randint(0, 10, (num_trains,))\n",
    "print(f\"Part of train labels for node classification: {nc_train_labels[:3]}\")\n",
    "torch.save(nc_train_labels, nc_train_labels_path)\n",
    "print(f\"NC train labels are saved to {nc_train_labels_path}\\n\")\n",
    "\n",
    "nc_val_ids_path = os.path.join(base_dir, \"nc-val-ids.npy\")\n",
    "nc_val_ids = ids[num_trains:num_trains+num_vals]\n",
    "print(f\"Part of val ids for node classification: {nc_val_ids[:3]}\")\n",
    "np.save(nc_val_ids_path, nc_val_ids)\n",
    "print(f\"NC val ids are saved to {nc_val_ids_path}\\n\")\n",
    "\n",
    "nc_val_labels_path = os.path.join(base_dir, \"nc-val-labels.pt\")\n",
    "nc_val_labels = torch.randint(0, 10, (num_vals,))\n",
    "print(f\"Part of val labels for node classification: {nc_val_labels[:3]}\")\n",
    "torch.save(nc_val_labels, nc_val_labels_path)\n",
    "print(f\"NC val labels are saved to {nc_val_labels_path}\\n\")\n",
    "\n",
    "nc_test_ids_path = os.path.join(base_dir, \"nc-test-ids.npy\")\n",
    "nc_test_ids = ids[-num_tests:]\n",
    "print(f\"Part of test ids for node classification: {nc_test_ids[:3]}\")\n",
    "np.save(nc_test_ids_path, nc_test_ids)\n",
    "print(f\"NC test ids are saved to {nc_test_ids_path}\\n\")\n",
    "\n",
    "nc_test_labels_path = os.path.join(base_dir, \"nc-test-labels.pt\")\n",
    "nc_test_labels = torch.randint(0, 10, (num_tests,))\n",
    "print(f\"Part of test labels for node classification: {nc_test_labels[:3]}\")\n",
    "torch.save(nc_test_labels, nc_test_labels_path)\n",
    "print(f\"NC test labels are saved to {nc_test_labels_path}\\n\")"
   ]
  },
  {
   "cell_type": "markdown",
   "metadata": {
    "id": "LhAcDCHQ_KJ0"
   },
   "source": [
    "#### Link Prediction Task\n",
    "For link prediction task, we need **seeds** or **corresponding labels and indexes** which representing the pos/neg property and group of the seeds for each training/validation/test set. Like feature data, numpy arrays and torch tensors are supported for these sets."
   ]
  },
  {
   "cell_type": "code",
   "execution_count": 6,
   "metadata": {
    "execution": {
     "iopub.execute_input": "2024-06-27T04:39:31.011934Z",
     "iopub.status.busy": "2024-06-27T04:39:31.011631Z",
     "iopub.status.idle": "2024-06-27T04:39:31.028910Z",
     "shell.execute_reply": "2024-06-27T04:39:31.028383Z"
    },
    "id": "u0jCnXIcAQy4"
   },
   "outputs": [
    {
     "name": "stdout",
     "output_type": "stream",
     "text": [
      "Part of train seeds for link prediction: [[390  60]\n",
      " [687 652]\n",
      " [ 58 522]]\n",
      "LP train seeds are saved to ./ondisk_dataset_homograph/lp-train-seeds.npy\n",
      "\n",
      "Part of val seeds for link prediction: [[257 240]\n",
      " [745 371]\n",
      " [  1 286]]\n",
      "LP val seeds are saved to ./ondisk_dataset_homograph/lp-val-seeds.npy\n",
      "\n",
      "Part of val labels for link prediction: [1. 1. 1.]\n",
      "LP val labels are saved to ./ondisk_dataset_homograph/lp-val-labels.npy\n",
      "\n",
      "Part of val indexes for link prediction: [0 1 2]\n",
      "LP val indexes are saved to ./ondisk_dataset_homograph/lp-val-indexes.npy\n",
      "\n",
      "Part of test seeds for link prediction: [[374 352]\n",
      " [979 584]\n",
      " [448 100]]\n",
      "LP test seeds are saved to ./ondisk_dataset_homograph/lp-test-seeds.npy\n",
      "\n",
      "Part of val labels for link prediction: [1. 1. 1.]\n",
      "LP test labels are saved to ./ondisk_dataset_homograph/lp-test-labels.npy\n",
      "\n",
      "Part of test indexes for link prediction: [0 1 2]\n",
      "LP test indexes are saved to ./ondisk_dataset_homograph/lp-test-indexes.npy\n",
      "\n"
     ]
    }
   ],
   "source": [
    "num_trains = int(num_edges * 0.6)\n",
    "num_vals = int(num_edges * 0.2)\n",
    "num_tests = num_edges - num_trains - num_vals\n",
    "\n",
    "lp_train_seeds_path = os.path.join(base_dir, \"lp-train-seeds.npy\")\n",
    "lp_train_seeds = edges[:num_trains, :]\n",
    "print(f\"Part of train seeds for link prediction: {lp_train_seeds[:3]}\")\n",
    "np.save(lp_train_seeds_path, lp_train_seeds)\n",
    "print(f\"LP train seeds are saved to {lp_train_seeds_path}\\n\")\n",
    "\n",
    "lp_val_seeds_path = os.path.join(base_dir, \"lp-val-seeds.npy\")\n",
    "lp_val_seeds = edges[num_trains:num_trains+num_vals, :]\n",
    "lp_val_neg_dsts = np.random.randint(0, num_nodes, (num_vals, 10)).reshape(-1)\n",
    "lp_val_neg_srcs = np.repeat(lp_val_seeds[:,0], 10)\n",
    "lp_val_neg_seeds = np.concatenate((lp_val_neg_srcs, lp_val_neg_dsts)).reshape(2,-1).T\n",
    "lp_val_seeds = np.concatenate((lp_val_seeds, lp_val_neg_seeds))\n",
    "print(f\"Part of val seeds for link prediction: {lp_val_seeds[:3]}\")\n",
    "np.save(lp_val_seeds_path, lp_val_seeds)\n",
    "print(f\"LP val seeds are saved to {lp_val_seeds_path}\\n\")\n",
    "\n",
    "lp_val_labels_path = os.path.join(base_dir, \"lp-val-labels.npy\")\n",
    "lp_val_labels = np.empty(num_vals * (10 + 1))\n",
    "lp_val_labels[:num_vals] = 1\n",
    "lp_val_labels[num_vals:] = 0\n",
    "print(f\"Part of val labels for link prediction: {lp_val_labels[:3]}\")\n",
    "np.save(lp_val_labels_path, lp_val_labels)\n",
    "print(f\"LP val labels are saved to {lp_val_labels_path}\\n\")\n",
    "\n",
    "lp_val_indexes_path = os.path.join(base_dir, \"lp-val-indexes.npy\")\n",
    "lp_val_indexes = np.arange(0, num_vals)\n",
    "lp_val_neg_indexes = np.repeat(lp_val_indexes, 10)\n",
    "lp_val_indexes = np.concatenate([lp_val_indexes, lp_val_neg_indexes])\n",
    "print(f\"Part of val indexes for link prediction: {lp_val_indexes[:3]}\")\n",
    "np.save(lp_val_indexes_path, lp_val_indexes)\n",
    "print(f\"LP val indexes are saved to {lp_val_indexes_path}\\n\")\n",
    "\n",
    "lp_test_seeds_path = os.path.join(base_dir, \"lp-test-seeds.npy\")\n",
    "lp_test_seeds = edges[-num_tests:, :]\n",
    "lp_test_neg_dsts = np.random.randint(0, num_nodes, (num_tests, 10)).reshape(-1)\n",
    "lp_test_neg_srcs = np.repeat(lp_test_seeds[:,0], 10)\n",
    "lp_test_neg_seeds = np.concatenate((lp_test_neg_srcs, lp_test_neg_dsts)).reshape(2,-1).T\n",
    "lp_test_seeds = np.concatenate((lp_test_seeds, lp_test_neg_seeds))\n",
    "print(f\"Part of test seeds for link prediction: {lp_test_seeds[:3]}\")\n",
    "np.save(lp_test_seeds_path, lp_test_seeds)\n",
    "print(f\"LP test seeds are saved to {lp_test_seeds_path}\\n\")\n",
    "\n",
    "lp_test_labels_path = os.path.join(base_dir, \"lp-test-labels.npy\")\n",
    "lp_test_labels = np.empty(num_tests * (10 + 1))\n",
    "lp_test_labels[:num_tests] = 1\n",
    "lp_test_labels[num_tests:] = 0\n",
    "print(f\"Part of val labels for link prediction: {lp_test_labels[:3]}\")\n",
    "np.save(lp_test_labels_path, lp_test_labels)\n",
    "print(f\"LP test labels are saved to {lp_test_labels_path}\\n\")\n",
    "\n",
    "lp_test_indexes_path = os.path.join(base_dir, \"lp-test-indexes.npy\")\n",
    "lp_test_indexes = np.arange(0, num_tests)\n",
    "lp_test_neg_indexes = np.repeat(lp_test_indexes, 10)\n",
    "lp_test_indexes = np.concatenate([lp_test_indexes, lp_test_neg_indexes])\n",
    "print(f\"Part of test indexes for link prediction: {lp_test_indexes[:3]}\")\n",
    "np.save(lp_test_indexes_path, lp_test_indexes)\n",
    "print(f\"LP test indexes are saved to {lp_test_indexes_path}\\n\")"
   ]
  },
  {
   "cell_type": "markdown",
   "metadata": {
    "id": "wbk6-wxRK-6S"
   },
   "source": [
    "## Organize Data into YAML File\n",
    "Now we need to create a `metadata.yaml` file which contains the paths, dadta types of graph structure, feature data, training/validation/test sets.\n",
    "\n",
    "Notes:\n",
    "- all path should be relative to `metadata.yaml`.\n",
    "- Below fields are optional and not specified in below example.\n",
    "  - `in_memory`: indicates whether to load dada into memory or `mmap`. Default is `True`.\n",
    "\n",
    "Please refer to [YAML specification](https://github.com/dmlc/dgl/blob/master/docs/source/stochastic_training/ondisk-dataset-specification.rst) for more details."
   ]
  },
  {
   "cell_type": "code",
   "execution_count": 7,
   "metadata": {
    "execution": {
     "iopub.execute_input": "2024-06-27T04:39:31.031328Z",
     "iopub.status.busy": "2024-06-27T04:39:31.031015Z",
     "iopub.status.idle": "2024-06-27T04:39:31.036262Z",
     "shell.execute_reply": "2024-06-27T04:39:31.035764Z"
    },
    "id": "ddGTWW61Lpwp"
   },
   "outputs": [],
   "source": [
    "yaml_content = f\"\"\"\n",
    "    dataset_name: homogeneous_graph_nc_lp\n",
    "    graph:\n",
    "      nodes:\n",
    "        - num: {num_nodes}\n",
    "      edges:\n",
    "        - format: csv\n",
    "          path: {os.path.basename(edges_path)}\n",
    "    feature_data:\n",
    "      - domain: node\n",
    "        name: feat_0\n",
    "        format: numpy\n",
    "        path: {os.path.basename(node_feat_0_path)}\n",
    "      - domain: node\n",
    "        name: feat_1\n",
    "        format: torch\n",
    "        path: {os.path.basename(node_feat_1_path)}\n",
    "      - domain: edge\n",
    "        name: feat_0\n",
    "        format: numpy\n",
    "        path: {os.path.basename(edge_feat_0_path)}\n",
    "      - domain: edge\n",
    "        name: feat_1\n",
    "        format: torch\n",
    "        path: {os.path.basename(edge_feat_1_path)}\n",
    "    tasks:\n",
    "      - name: node_classification\n",
    "        num_classes: 10\n",
    "        train_set:\n",
    "          - data:\n",
    "              - name: seeds\n",
    "                format: numpy\n",
    "                path: {os.path.basename(nc_train_ids_path)}\n",
    "              - name: labels\n",
    "                format: torch\n",
    "                path: {os.path.basename(nc_train_labels_path)}\n",
    "        validation_set:\n",
    "          - data:\n",
    "              - name: seeds\n",
    "                format: numpy\n",
    "                path: {os.path.basename(nc_val_ids_path)}\n",
    "              - name: labels\n",
    "                format: torch\n",
    "                path: {os.path.basename(nc_val_labels_path)}\n",
    "        test_set:\n",
    "          - data:\n",
    "              - name: seeds\n",
    "                format: numpy\n",
    "                path: {os.path.basename(nc_test_ids_path)}\n",
    "              - name: labels\n",
    "                format: torch\n",
    "                path: {os.path.basename(nc_test_labels_path)}\n",
    "      - name: link_prediction\n",
    "        num_classes: 10\n",
    "        train_set:\n",
    "          - data:\n",
    "              - name: seeds\n",
    "                format: numpy\n",
    "                path: {os.path.basename(lp_train_seeds_path)}\n",
    "        validation_set:\n",
    "          - data:\n",
    "              - name: seeds\n",
    "                format: numpy\n",
    "                path: {os.path.basename(lp_val_seeds_path)}\n",
    "              - name: labels\n",
    "                format: numpy\n",
    "                path: {os.path.basename(lp_val_labels_path)}\n",
    "              - name: indexes\n",
    "                format: numpy\n",
    "                path: {os.path.basename(lp_val_indexes_path)}\n",
    "        test_set:\n",
    "          - data:\n",
    "              - name: seeds\n",
    "                format: numpy\n",
    "                path: {os.path.basename(lp_test_seeds_path)}\n",
    "              - name: labels\n",
    "                format: numpy\n",
    "                path: {os.path.basename(lp_test_labels_path)}\n",
    "              - name: indexes\n",
    "                format: numpy\n",
    "                path: {os.path.basename(lp_test_indexes_path)}\n",
    "\"\"\"\n",
    "metadata_path = os.path.join(base_dir, \"metadata.yaml\")\n",
    "with open(metadata_path, \"w\") as f:\n",
    "  f.write(yaml_content)"
   ]
  },
  {
   "cell_type": "markdown",
   "metadata": {
    "id": "kEfybHGhOW7O"
   },
   "source": [
    "## Instantiate `OnDiskDataset`\n",
    "Now we're ready to load dataset via `dgl.graphbolt.OnDiskDataset`. When instantiating, we just pass in the base directory where `metadata.yaml` file lies.\n",
    "\n",
    "During first instantiation, GraphBolt preprocesses the raw data such as constructing `FusedCSCSamplingGraph` from edges. All data including graph, feature data, training/validation/test sets are put into `preprocessed` directory after preprocessing. Any following dataset loading will skip the preprocess stage.\n",
    "\n",
    "After preprocessing, `load()` is required to be called explicitly in order to load graph, feature data and tasks."
   ]
  },
  {
   "cell_type": "code",
   "execution_count": 8,
   "metadata": {
    "execution": {
     "iopub.execute_input": "2024-06-27T04:39:31.038483Z",
     "iopub.status.busy": "2024-06-27T04:39:31.038171Z",
     "iopub.status.idle": "2024-06-27T04:39:31.105688Z",
     "shell.execute_reply": "2024-06-27T04:39:31.105142Z"
    },
    "id": "W58CZoSzOiyo"
   },
   "outputs": [
    {
     "name": "stdout",
     "output_type": "stream",
     "text": [
      "Start to preprocess the on-disk dataset.\n",
      "Finish preprocessing the on-disk dataset.\n",
      "Loaded graph: FusedCSCSamplingGraph(csc_indptr=tensor([    0,     8,    16,  ...,  9972,  9982, 10000], dtype=torch.int32),\n",
      "                      indices=tensor([465, 530, 485,  ..., 205, 242, 786], dtype=torch.int32),\n",
      "                      total_num_nodes=1000, num_edges=10000,)\n",
      "\n",
      "Loaded feature store: TorchBasedFeatureStore(\n",
      "    {(<OnDiskFeatureDataDomain.NODE: 'node'>, None, 'feat_0'): TorchBasedFeature(\n",
      "        feature=tensor([[0.8347, 0.4384, 0.4542, 0.1529, 0.3478],\n",
      "                        [0.8081, 0.7845, 0.0958, 0.2388, 0.0969],\n",
      "                        [0.7294, 0.6952, 0.5392, 0.3918, 0.9633],\n",
      "                        ...,\n",
      "                        [0.8629, 0.7195, 0.4962, 0.8314, 0.7678],\n",
      "                        [0.8662, 0.7828, 0.9025, 0.1151, 0.6165],\n",
      "                        [0.2781, 0.1133, 0.9739, 0.7288, 0.6639]], dtype=torch.float64),\n",
      "        metadata={},\n",
      "    ), (<OnDiskFeatureDataDomain.NODE: 'node'>, None, 'feat_1'): TorchBasedFeature(\n",
      "        feature=tensor([[0.0634, 0.2479, 0.8408, 0.4974, 0.0316],\n",
      "                        [0.3267, 0.3299, 0.5629, 0.3130, 0.4152],\n",
      "                        [0.6098, 0.7533, 0.8637, 0.6387, 0.2124],\n",
      "                        ...,\n",
      "                        [0.9516, 0.4999, 0.9674, 0.5793, 0.3293],\n",
      "                        [0.7099, 0.9594, 0.3391, 0.1979, 0.2828],\n",
      "                        [0.2689, 0.2391, 0.9237, 0.0877, 0.5422]]),\n",
      "        metadata={},\n",
      "    ), (<OnDiskFeatureDataDomain.EDGE: 'edge'>, None, 'feat_0'): TorchBasedFeature(\n",
      "        feature=tensor([[0.9300, 0.8842, 0.7205, 0.9448, 0.0947],\n",
      "                        [0.5029, 0.5497, 0.1528, 0.4719, 0.0416],\n",
      "                        [0.5917, 0.4707, 0.4512, 0.5604, 0.4213],\n",
      "                        ...,\n",
      "                        [0.2551, 0.4259, 0.7406, 0.0744, 0.0348],\n",
      "                        [0.2211, 0.0531, 0.2824, 0.9264, 0.7420],\n",
      "                        [0.6477, 0.4593, 0.0596, 0.3686, 0.0460]], dtype=torch.float64),\n",
      "        metadata={},\n",
      "    ), (<OnDiskFeatureDataDomain.EDGE: 'edge'>, None, 'feat_1'): TorchBasedFeature(\n",
      "        feature=tensor([[0.5772, 0.2253, 0.2002, 0.6979, 0.8371],\n",
      "                        [0.5191, 0.4854, 0.7052, 0.6422, 0.2299],\n",
      "                        [0.1067, 0.8716, 0.6406, 0.9596, 0.9487],\n",
      "                        ...,\n",
      "                        [0.2848, 0.0691, 0.2618, 0.9536, 0.3261],\n",
      "                        [0.7468, 0.0461, 0.8949, 0.0835, 0.9652],\n",
      "                        [0.6976, 0.5916, 0.9272, 0.1166, 0.8678]]),\n",
      "        metadata={},\n",
      "    )}\n",
      ")\n",
      "\n",
      "Loaded node classification task: OnDiskTask(validation_set=ItemSet(\n",
      "               items=(tensor([190, 295, 691, 463, 398, 854, 731, 901, 934, 238, 422, 642,  82, 661,\n",
      "                   862, 634, 228,  26, 958, 114, 366, 494,  47, 280, 812, 992, 741, 495,\n",
      "                   506, 499, 603, 570, 951, 153, 894, 232, 413, 226, 923, 965, 672, 357,\n",
      "                   867, 171,  70, 337, 277, 669, 118, 249, 234, 656, 595, 370, 204, 908,\n",
      "                   818, 444, 479, 605, 702, 367, 778, 428, 482, 158, 548,  85, 490, 995,\n",
      "                   830, 538, 911, 384, 607, 448,  17, 651,  76, 868, 218, 223, 165, 637,\n",
      "                   739,  61, 820, 630,  54, 882, 387, 283, 839, 832, 414, 274, 635, 555,\n",
      "                   852, 106, 251, 865, 376, 567, 526, 907, 653, 310, 734,  27, 215, 780,\n",
      "                   970,  10, 143, 792, 271,  94, 468, 139, 804, 933, 631, 221, 244, 259,\n",
      "                   140, 418,   1, 794, 105,  75, 385, 120, 941, 692, 336, 279, 889, 606,\n",
      "                   795, 649, 994, 871, 837, 700, 793, 325, 998, 430, 626, 585, 423, 926,\n",
      "                   293, 233, 390, 683, 828, 287, 222, 169, 708, 408, 955, 612, 892, 195,\n",
      "                   954, 304, 510, 925, 779, 199, 707, 497, 979, 638, 577, 921, 392, 266,\n",
      "                   469, 711, 922, 686,  42, 186,  14, 803, 201, 781, 542, 927, 292, 859,\n",
      "                   405,  18, 187, 765], dtype=torch.int32), tensor([9, 1, 6, 1, 4, 2, 1, 0, 0, 1, 8, 3, 2, 6, 6, 3, 4, 6, 0, 2, 7, 4, 4, 4,\n",
      "                   8, 1, 0, 9, 9, 8, 5, 1, 4, 1, 3, 6, 6, 0, 2, 4, 3, 8, 8, 2, 3, 9, 4, 3,\n",
      "                   6, 3, 3, 7, 4, 2, 6, 8, 9, 0, 4, 0, 4, 2, 5, 0, 9, 1, 1, 1, 2, 9, 6, 8,\n",
      "                   0, 5, 7, 8, 7, 6, 8, 0, 4, 0, 2, 4, 6, 5, 0, 6, 3, 9, 8, 0, 4, 6, 2, 9,\n",
      "                   3, 5, 2, 2, 4, 7, 5, 5, 8, 1, 8, 9, 4, 2, 0, 5, 2, 2, 0, 1, 3, 9, 7, 9,\n",
      "                   0, 0, 1, 9, 9, 3, 9, 6, 7, 6, 6, 6, 4, 6, 4, 0, 7, 8, 5, 5, 6, 6, 2, 6,\n",
      "                   1, 4, 3, 3, 0, 9, 1, 8, 7, 1, 3, 3, 8, 0, 7, 0, 2, 0, 8, 0, 5, 3, 1, 4,\n",
      "                   0, 9, 9, 1, 0, 8, 2, 4, 6, 8, 4, 9, 7, 6, 3, 3, 6, 4, 0, 4, 1, 8, 8, 2,\n",
      "                   8, 0, 9, 3, 5, 2, 1, 1])),\n",
      "               names=('seeds', 'labels'),\n",
      "           ),\n",
      "           train_set=ItemSet(\n",
      "               items=(tensor([745, 257, 364, 530,  20, 503, 904, 915, 453, 583, 151, 735, 878, 864,\n",
      "                   628, 678, 539,   9,  72, 716,  90, 297, 309, 950, 588,   8, 214, 658,\n",
      "                   415, 710, 846, 407, 351, 360, 208,  30, 615, 973,  23, 930, 176, 545,\n",
      "                   318, 477, 872, 147, 655, 560, 591, 987, 532, 627, 748, 573, 166, 722,\n",
      "                   124,  31, 227, 512, 829,  12, 623, 791, 178, 509, 644, 880,  57, 885,\n",
      "                   354, 492, 810, 439, 229, 323, 543, 321, 383, 134, 389, 369, 240, 602,\n",
      "                   550, 185, 687, 680, 391, 104, 822, 563, 483,  66, 747, 198, 245, 485,\n",
      "                   486, 614, 701, 144,  95, 443, 362, 129,   3, 294, 753, 673, 971, 312,\n",
      "                   997,  16, 844, 420, 980, 662, 478, 622, 353, 157, 417, 363, 356, 706,\n",
      "                    13, 123, 903, 767,  91, 776, 919, 881, 101, 167, 582, 684, 788, 969,\n",
      "                   896, 827, 302, 253, 224, 108, 772, 632, 520, 290, 450, 427,   4, 962,\n",
      "                    59, 912, 671, 546, 652, 122, 576, 853, 373, 802,  79, 159, 717, 834,\n",
      "                   681, 551, 785, 457, 299, 749, 800, 400,  43, 929, 668, 513, 581, 709,\n",
      "                   981, 944, 372, 138, 935, 558, 426, 887, 875, 127, 242, 313, 515, 142,\n",
      "                   989, 663, 848, 458,  56, 500, 978, 964, 130,  51, 164, 501, 203, 738,\n",
      "                   141, 365, 633, 472, 338, 695,  71, 531, 184, 561, 592, 339, 451,  44,\n",
      "                   528, 888, 713, 821, 464, 824, 553, 446, 291, 434, 340, 698, 996, 508,\n",
      "                    65,   2, 437, 260, 757, 945,  50, 754, 161, 412, 566, 556, 425, 840,\n",
      "                   861, 194, 845, 659, 487, 574,  55, 278, 619, 677, 386, 968, 333, 243,\n",
      "                   331, 202, 269, 395, 181, 401, 782, 381, 600, 914, 347, 148, 685, 460,\n",
      "                   540, 316, 480, 196, 831, 379, 493, 145, 905, 798, 355, 193, 416, 775,\n",
      "                   504, 597, 611, 172, 916, 766,  46, 743,  22, 378, 406, 690,  98, 441,\n",
      "                   928, 529, 404, 572, 593, 937, 209,  88, 452, 521, 217, 725, 126, 112,\n",
      "                   610,  84,  41, 329, 723, 334, 149, 514, 751, 760, 624, 705, 719, 527,\n",
      "                   319,  87, 432, 536, 796, 320, 874, 974,  25, 335, 246, 816, 547, 289,\n",
      "                   168, 544,  38, 984, 943,   0,  86,  29, 843, 650, 704, 564, 296, 213,\n",
      "                   589, 466, 476, 823, 590, 858, 913, 211, 484, 756, 648, 332, 424,  69,\n",
      "                   264, 646, 219, 740, 957, 315, 496, 374, 163, 860, 276, 666, 842, 516,\n",
      "                   436, 341, 327, 931, 173, 258, 902, 119, 703, 727, 817, 402, 133, 152,\n",
      "                   826, 682, 571, 273, 579, 210, 346, 239, 920, 783, 125, 489, 985, 377,\n",
      "                   836, 712, 433,  96, 359, 790, 393, 135, 636, 537, 960, 349, 557, 599,\n",
      "                   724,  24, 601, 688, 326,   7, 183, 807, 136, 461, 963, 429, 456, 604,\n",
      "                   265, 375, 525, 641, 216, 856, 162, 236, 721, 946, 720, 952, 774, 471,\n",
      "                   261, 675, 569, 170, 857, 814, 643, 959, 262, 522, 732,  11, 352, 155,\n",
      "                   368, 541, 975, 777, 288, 895, 200, 275, 409, 689, 906, 100, 396, 620,\n",
      "                   116, 212, 953, 851, 587,  45, 180, 578, 107, 533, 231, 674, 884, 192,\n",
      "                   498, 311, 481, 270, 730, 305, 665, 307,  32, 825, 899, 250, 345, 789,\n",
      "                   613, 505, 752, 388, 764,  78, 799, 410, 654, 986, 285, 511, 330, 736,\n",
      "                    49, 447, 961, 869,  67, 519, 206, 189, 696, 474, 621, 616, 502, 160,\n",
      "                   847, 554, 380, 647, 113, 507, 664, 565, 491, 103, 197, 936, 598, 949,\n",
      "                   263, 956,  33, 699, 584, 900, 137, 759,  52, 156,  60, 890,  34,  40,\n",
      "                   252, 523, 938, 746,  81, 877, 940,  62, 726, 394, 728, 855, 454, 763,\n",
      "                   809, 596, 805, 467, 488, 150, 910, 306,  15, 342, 886, 983],\n",
      "                  dtype=torch.int32), tensor([4, 0, 8, 9, 5, 5, 0, 0, 6, 9, 3, 4, 4, 6, 3, 2, 9, 6, 0, 1, 9, 9, 3, 8,\n",
      "                   6, 5, 9, 4, 8, 2, 4, 1, 3, 3, 9, 8, 6, 7, 3, 6, 1, 5, 2, 2, 6, 3, 0, 0,\n",
      "                   7, 1, 3, 9, 5, 6, 0, 8, 5, 2, 6, 3, 7, 8, 4, 0, 4, 3, 9, 4, 1, 2, 5, 2,\n",
      "                   1, 8, 2, 1, 6, 4, 9, 6, 9, 9, 8, 1, 6, 3, 8, 6, 2, 7, 8, 2, 4, 2, 4, 7,\n",
      "                   9, 7, 4, 4, 2, 3, 3, 5, 0, 2, 2, 9, 1, 2, 7, 8, 1, 5, 6, 9, 4, 7, 5, 4,\n",
      "                   6, 9, 4, 8, 6, 6, 1, 8, 8, 2, 1, 3, 9, 3, 5, 6, 1, 2, 8, 2, 6, 8, 4, 1,\n",
      "                   1, 1, 7, 8, 4, 9, 0, 0, 8, 9, 3, 9, 4, 2, 4, 3, 9, 2, 1, 4, 6, 8, 3, 4,\n",
      "                   3, 9, 6, 2, 5, 0, 2, 5, 1, 6, 8, 7, 6, 5, 6, 0, 1, 8, 7, 4, 2, 6, 2, 7,\n",
      "                   8, 7, 4, 3, 1, 8, 4, 0, 8, 2, 7, 2, 9, 6, 4, 3, 0, 6, 9, 0, 6, 1, 3, 8,\n",
      "                   1, 3, 5, 1, 7, 4, 0, 1, 6, 9, 0, 4, 2, 4, 6, 9, 7, 8, 7, 5, 7, 3, 5, 0,\n",
      "                   7, 8, 4, 5, 8, 4, 4, 0, 6, 0, 2, 4, 3, 8, 4, 1, 3, 0, 3, 7, 0, 3, 5, 4,\n",
      "                   9, 0, 3, 8, 2, 6, 8, 8, 5, 8, 9, 1, 7, 0, 0, 0, 5, 1, 5, 5, 1, 7, 6, 6,\n",
      "                   2, 5, 8, 6, 3, 7, 2, 6, 6, 8, 4, 7, 9, 8, 3, 6, 3, 1, 7, 8, 1, 7, 0, 4,\n",
      "                   9, 4, 9, 4, 9, 8, 0, 3, 3, 0, 0, 0, 7, 3, 9, 8, 7, 4, 2, 7, 8, 1, 2, 9,\n",
      "                   6, 1, 7, 8, 7, 6, 9, 9, 3, 5, 7, 9, 0, 2, 4, 0, 7, 4, 8, 6, 1, 1, 8, 9,\n",
      "                   3, 7, 9, 8, 0, 8, 2, 2, 9, 6, 6, 5, 4, 4, 2, 9, 4, 7, 3, 0, 2, 1, 9, 9,\n",
      "                   3, 2, 9, 2, 4, 5, 2, 1, 0, 3, 9, 5, 4, 7, 3, 8, 4, 9, 9, 5, 5, 4, 9, 7,\n",
      "                   2, 3, 8, 6, 9, 9, 3, 0, 7, 7, 1, 3, 4, 6, 9, 5, 1, 3, 5, 7, 8, 6, 5, 7,\n",
      "                   5, 2, 4, 8, 8, 2, 1, 6, 5, 1, 2, 4, 6, 1, 5, 3, 9, 8, 6, 6, 5, 6, 7, 7,\n",
      "                   7, 2, 6, 2, 7, 3, 4, 3, 9, 6, 8, 2, 9, 3, 1, 2, 9, 0, 8, 1, 6, 6, 6, 6,\n",
      "                   8, 8, 0, 4, 6, 9, 0, 0, 4, 6, 6, 1, 2, 8, 8, 1, 4, 2, 9, 1, 5, 8, 3, 4,\n",
      "                   4, 0, 0, 8, 6, 1, 8, 0, 5, 3, 0, 3, 0, 9, 3, 2, 1, 8, 1, 0, 6, 8, 0, 9,\n",
      "                   4, 5, 3, 9, 0, 2, 3, 9, 1, 7, 9, 0, 6, 8, 6, 3, 4, 5, 6, 4, 3, 3, 0, 2,\n",
      "                   8, 9, 5, 9, 9, 3, 8, 5, 5, 9, 0, 9, 4, 4, 6, 9, 2, 7, 9, 2, 9, 0, 5, 6,\n",
      "                   5, 2, 3, 6, 3, 5, 7, 0, 7, 2, 6, 0, 5, 8, 2, 9, 1, 4, 8, 1, 3, 6, 2, 5])),\n",
      "               names=('seeds', 'labels'),\n",
      "           ),\n",
      "           test_set=ItemSet(\n",
      "               items=(tensor([300, 230, 850, 939, 247, 559, 942, 562, 317,  77, 343, 361, 568, 524,\n",
      "                    93,  39, 629, 438, 972, 618, 235, 999, 718,  35, 255, 301, 308,   6,\n",
      "                   833, 552, 773, 761, 132, 131, 220, 948, 918, 679, 102, 397, 109, 657,\n",
      "                   241, 758, 207, 435, 714, 549, 835,  63, 179, 667, 909,  92, 473,  74,\n",
      "                   694, 693, 797, 676, 838,  19,  99, 784,  58, 898, 729, 535, 117, 403,\n",
      "                   344,  64, 744, 787, 811, 768, 175,   5, 750, 608,  36, 248, 286,  28,\n",
      "                   991, 806, 893, 314, 146, 267, 733, 849, 455, 808, 358, 639, 932, 813,\n",
      "                    37, 697, 442, 465, 445, 256, 617, 254, 762, 188, 801, 115, 449, 174,\n",
      "                   982, 284, 873, 459, 350, 517, 462, 966, 128, 993,  68, 575, 281, 771,\n",
      "                   182, 191,  21, 967, 324, 470, 237, 876, 917, 586, 879, 924, 755, 660,\n",
      "                   348, 111, 431, 534, 594, 737, 371, 891, 475, 121, 786, 770, 580, 303,\n",
      "                   897, 399, 154, 819, 769, 421, 177, 411, 609,  89, 841,  73,  83, 625,\n",
      "                   976, 870,  80, 815, 225, 715, 977, 440, 268, 322,  48, 866, 742, 110,\n",
      "                   645, 298, 419, 990, 863, 518, 205, 670, 988, 272, 947, 640, 282, 382,\n",
      "                   328, 883,  97,  53], dtype=torch.int32), tensor([6, 4, 6, 4, 3, 6, 2, 1, 4, 4, 5, 3, 9, 5, 8, 1, 2, 2, 7, 0, 5, 3, 8, 2,\n",
      "                   0, 3, 1, 6, 1, 4, 2, 6, 0, 8, 8, 1, 8, 3, 9, 0, 6, 0, 2, 4, 6, 6, 3, 8,\n",
      "                   6, 6, 4, 1, 8, 5, 4, 6, 8, 6, 8, 2, 5, 0, 7, 5, 7, 0, 0, 4, 1, 9, 8, 7,\n",
      "                   5, 6, 3, 5, 3, 1, 6, 0, 5, 9, 0, 8, 7, 8, 5, 8, 2, 0, 1, 4, 6, 9, 5, 1,\n",
      "                   0, 4, 7, 9, 7, 4, 1, 9, 8, 3, 6, 7, 6, 6, 8, 6, 6, 4, 3, 7, 7, 9, 1, 7,\n",
      "                   9, 3, 2, 8, 1, 8, 0, 4, 0, 8, 1, 5, 4, 8, 9, 7, 8, 2, 1, 5, 8, 9, 6, 2,\n",
      "                   6, 7, 1, 5, 0, 4, 7, 1, 1, 1, 3, 9, 8, 6, 8, 3, 3, 7, 5, 7, 9, 4, 6, 9,\n",
      "                   0, 5, 3, 8, 9, 4, 2, 1, 9, 7, 1, 2, 9, 1, 5, 7, 0, 6, 5, 3, 7, 7, 0, 7,\n",
      "                   0, 8, 4, 8, 2, 5, 1, 4])),\n",
      "               names=('seeds', 'labels'),\n",
      "           ),\n",
      "           metadata={'name': 'node_classification', 'num_classes': 10},)\n",
      "\n",
      "Loaded link prediction task: OnDiskTask(validation_set=ItemSet(\n",
      "               items=(tensor([[257, 240],\n",
      "                   [745, 371],\n",
      "                   [  1, 286],\n",
      "                   ...,\n",
      "                   [269, 673],\n",
      "                   [269, 749],\n",
      "                   [269, 648]], dtype=torch.int32), tensor([1., 1., 1.,  ..., 0., 0., 0.], dtype=torch.float64), tensor([   0,    1,    2,  ..., 1999, 1999, 1999])),\n",
      "               names=('seeds', 'labels', 'indexes'),\n",
      "           ),\n",
      "           train_set=ItemSet(\n",
      "               items=(tensor([[390,  60],\n",
      "                   [687, 652],\n",
      "                   [ 58, 522],\n",
      "                   ...,\n",
      "                   [474, 663],\n",
      "                   [585, 576],\n",
      "                   [681, 225]], dtype=torch.int32),),\n",
      "               names=('seeds',),\n",
      "           ),\n",
      "           test_set=ItemSet(\n",
      "               items=(tensor([[374, 352],\n",
      "                   [979, 584],\n",
      "                   [448, 100],\n",
      "                   ...,\n",
      "                   [714, 957],\n",
      "                   [714, 951],\n",
      "                   [714, 739]], dtype=torch.int32), tensor([1., 1., 1.,  ..., 0., 0., 0.], dtype=torch.float64), tensor([   0,    1,    2,  ..., 1999, 1999, 1999])),\n",
      "               names=('seeds', 'labels', 'indexes'),\n",
      "           ),\n",
      "           metadata={'name': 'link_prediction', 'num_classes': 10},)\n",
      "\n"
     ]
    },
    {
     "name": "stderr",
     "output_type": "stream",
     "text": [
      "/home/ubuntu/dgl/python/dgl/graphbolt/impl/ondisk_dataset.py:460: DGLWarning: Edge feature is stored, but edge IDs are not saved.\n",
      "  dgl_warning(\"Edge feature is stored, but edge IDs are not saved.\")\n"
     ]
    }
   ],
   "source": [
    "dataset = gb.OnDiskDataset(base_dir).load()\n",
    "graph = dataset.graph\n",
    "print(f\"Loaded graph: {graph}\\n\")\n",
    "\n",
    "feature = dataset.feature\n",
    "print(f\"Loaded feature store: {feature}\\n\")\n",
    "\n",
    "tasks = dataset.tasks\n",
    "nc_task = tasks[0]\n",
    "print(f\"Loaded node classification task: {nc_task}\\n\")\n",
    "lp_task = tasks[1]\n",
    "print(f\"Loaded link prediction task: {lp_task}\\n\")"
   ]
  }
 ],
 "metadata": {
  "colab": {
   "private_outputs": true,
   "provenance": []
  },
  "kernelspec": {
   "display_name": "Python 3",
   "name": "python3"
  },
  "language_info": {
   "codemirror_mode": {
    "name": "ipython",
    "version": 3
   },
   "file_extension": ".py",
   "mimetype": "text/x-python",
   "name": "python",
   "nbconvert_exporter": "python",
   "pygments_lexer": "ipython3",
   "version": "3.10.14"
  }
 },
 "nbformat": 4,
 "nbformat_minor": 0
}
